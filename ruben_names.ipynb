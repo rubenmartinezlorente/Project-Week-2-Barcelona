{
 "nbformat": 4,
 "nbformat_minor": 2,
 "metadata": {
  "language_info": {
   "name": "python",
   "codemirror_mode": {
    "name": "ipython",
    "version": 3
   }
  },
  "orig_nbformat": 2,
  "file_extension": ".py",
  "mimetype": "text/x-python",
  "name": "python",
  "npconvert_exporter": "python",
  "pygments_lexer": "ipython3",
  "version": 3
 },
 "cells": [
  {
   "cell_type": "code",
   "execution_count": 1,
   "metadata": {},
   "outputs": [],
   "source": [
    "import pandas as  pd \n",
    "\n",
    "## we call the files necessary to answer the questions. In this case: death and population\n",
    "names = pd.read_csv('../Project-Week-2-Barcelona/datasets/3.-Population/most-frequent-names.csv')\n",
    "\n"
   ]
  },
  {
   "cell_type": "code",
   "execution_count": 2,
   "metadata": {},
   "outputs": [
    {
     "data": {
      "text/html": "<div>\n<style scoped>\n    .dataframe tbody tr th:only-of-type {\n        vertical-align: middle;\n    }\n\n    .dataframe tbody tr th {\n        vertical-align: top;\n    }\n\n    .dataframe thead th {\n        text-align: right;\n    }\n</style>\n<table border=\"1\" class=\"dataframe\">\n  <thead>\n    <tr style=\"text-align: right;\">\n      <th></th>\n      <th>Order</th>\n      <th>Name</th>\n      <th>Gender</th>\n      <th>Decade</th>\n      <th>Frequency</th>\n    </tr>\n  </thead>\n  <tbody>\n    <tr>\n      <th>0</th>\n      <td>1</td>\n      <td>MARIA</td>\n      <td>Female</td>\n      <td>Before 1930</td>\n      <td>2085</td>\n    </tr>\n    <tr>\n      <th>1</th>\n      <td>2</td>\n      <td>CARMEN</td>\n      <td>Female</td>\n      <td>Before 1930</td>\n      <td>1463</td>\n    </tr>\n    <tr>\n      <th>2</th>\n      <td>3</td>\n      <td>JOSEFA</td>\n      <td>Female</td>\n      <td>Before 1930</td>\n      <td>1032</td>\n    </tr>\n    <tr>\n      <th>3</th>\n      <td>4</td>\n      <td>MONTSERRAT</td>\n      <td>Female</td>\n      <td>Before 1930</td>\n      <td>879</td>\n    </tr>\n    <tr>\n      <th>4</th>\n      <td>5</td>\n      <td>ROSA</td>\n      <td>Female</td>\n      <td>Before 1930</td>\n      <td>762</td>\n    </tr>\n  </tbody>\n</table>\n</div>",
      "text/plain": "   Order        Name  Gender       Decade  Frequency\n0      1       MARIA  Female  Before 1930       2085\n1      2      CARMEN  Female  Before 1930       1463\n2      3      JOSEFA  Female  Before 1930       1032\n3      4  MONTSERRAT  Female  Before 1930        879\n4      5        ROSA  Female  Before 1930        762"
     },
     "execution_count": 2,
     "metadata": {},
     "output_type": "execute_result"
    }
   ],
   "source": [
    "names.head()"
   ]
  },
  {
   "cell_type": "code",
   "execution_count": 44,
   "metadata": {},
   "outputs": [
    {
     "data": {
      "text/plain": "Name         TERESA\nFrequency     19173\ndtype: object"
     },
     "execution_count": 44,
     "metadata": {},
     "output_type": "execute_result"
    }
   ],
   "source": [
    "################################# What is the most  female frequent name in this century    ############################################\n",
    "\n",
    "###########we use these commments to extract information about which kind of info have the dataframe, their columns, etc. \n",
    "\n",
    "names.head()                                                 \n",
    "#names.columns\n",
    "#names.Decade.unique()\n",
    "\n",
    "names_total_F = names.loc[(names.Gender == 'Female') & (names.Decade == 'TOTAL')].loc[:,['Name','Frequency']]\n",
    "names_total_F.sort_values('Frequency', ascending = False)\n",
    "names_total_F.max()\n",
    "\n",
    "\n",
    "\n",
    "\n",
    "#summary = names_total_F.groupby(level=['Decade','Name'], group_keys=False).apply(lambda group: group.nlargest(1, 'Frequency'))\n",
    "#summary\n",
    "\n",
    "\n"
   ]
  },
  {
   "cell_type": "code",
   "execution_count": 43,
   "metadata": {},
   "outputs": [
    {
     "data": {
      "text/plain": "Name         ALBERT\nFrequency      2988\ndtype: object"
     },
     "execution_count": 43,
     "metadata": {},
     "output_type": "execute_result"
    }
   ],
   "source": [
    "################################# What is the most  male frequent name in this century    ############################################\n",
    "\n",
    "names_total_M = names.loc[(names.Decade == 'TOTAL') & (names.Gender == 'Male')].loc[:,['Name', 'Frequency']]\n",
    "names_total_M.sort_values('Frequency', ascending = False)\n",
    "names_total_M.min()\n",
    "\n",
    "\n"
   ]
  },
  {
   "cell_type": "code",
   "execution_count": null,
   "metadata": {},
   "outputs": [],
   "source": []
  }
 ]
}