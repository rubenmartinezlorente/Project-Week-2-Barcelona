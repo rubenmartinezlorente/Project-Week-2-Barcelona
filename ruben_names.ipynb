{
 "nbformat": 4,
 "nbformat_minor": 2,
 "metadata": {
  "language_info": {
   "name": "python",
   "codemirror_mode": {
    "name": "ipython",
    "version": 3
   }
  },
  "orig_nbformat": 2,
  "file_extension": ".py",
  "mimetype": "text/x-python",
  "name": "python",
  "npconvert_exporter": "python",
  "pygments_lexer": "ipython3",
  "version": 3
 },
 "cells": [
  {
   "cell_type": "code",
   "execution_count": 99,
   "metadata": {},
   "outputs": [],
   "source": [
    "import pandas as pd"
   ]
  },
  {
   "cell_type": "code",
   "execution_count": 2,
   "metadata": {},
   "outputs": [],
   "source": [
    "import pandas as  pd \n",
    "\n",
    "#'/Users/rubenmartinezlorente/data-bcn-prework/DATA_COURSE/PROJECTS/P2_Barcelona/Project-Week-2-Barcelona/datasets/3.-Population/births.csv')\n",
    "##files to read\n",
    "\n",
    "birth = pd.read_csv('../Project-Week-2-Barcelona/datasets/3.-Population/births.csv')\n",
    "death = pd.read_csv('../Project-Week-2-Barcelona/datasets/3.-Population/deaths.csv')\n",
    "population = pd.read_csv('../Project-Week-2-Barcelona/datasets/3.-Population/population.csv')\n",
    "babies = pd.read_csv('../Project-Week-2-Barcelona/datasets/3.-Population/most-frequent-baby-names.csv')\n",
    "names = pd.read_csv('../Project-Week-2-Barcelona/datasets/3.-Population/most-frequent-names.csv')\n",
    "\n"
   ]
  },
  {
   "cell_type": "code",
   "execution_count": 9,
   "metadata": {},
   "outputs": [
    {
     "data": {
      "text/html": "<div>\n<style scoped>\n    .dataframe tbody tr th:only-of-type {\n        vertical-align: middle;\n    }\n\n    .dataframe tbody tr th {\n        vertical-align: top;\n    }\n\n    .dataframe thead th {\n        text-align: right;\n    }\n</style>\n<table border=\"1\" class=\"dataframe\">\n  <thead>\n    <tr style=\"text-align: right;\">\n      <th></th>\n      <th>Order</th>\n      <th>Name</th>\n      <th>Gender</th>\n      <th>Decade</th>\n      <th>Frequency</th>\n    </tr>\n  </thead>\n  <tbody>\n    <tr>\n      <th>0</th>\n      <td>1</td>\n      <td>MARIA</td>\n      <td>Female</td>\n      <td>Before 1930</td>\n      <td>2085</td>\n    </tr>\n    <tr>\n      <th>1</th>\n      <td>2</td>\n      <td>CARMEN</td>\n      <td>Female</td>\n      <td>Before 1930</td>\n      <td>1463</td>\n    </tr>\n    <tr>\n      <th>2</th>\n      <td>3</td>\n      <td>JOSEFA</td>\n      <td>Female</td>\n      <td>Before 1930</td>\n      <td>1032</td>\n    </tr>\n    <tr>\n      <th>3</th>\n      <td>4</td>\n      <td>MONTSERRAT</td>\n      <td>Female</td>\n      <td>Before 1930</td>\n      <td>879</td>\n    </tr>\n    <tr>\n      <th>4</th>\n      <td>5</td>\n      <td>ROSA</td>\n      <td>Female</td>\n      <td>Before 1930</td>\n      <td>762</td>\n    </tr>\n  </tbody>\n</table>\n</div>",
      "text/plain": "   Order        Name  Gender       Decade  Frequency\n0      1       MARIA  Female  Before 1930       2085\n1      2      CARMEN  Female  Before 1930       1463\n2      3      JOSEFA  Female  Before 1930       1032\n3      4  MONTSERRAT  Female  Before 1930        879\n4      5        ROSA  Female  Before 1930        762"
     },
     "execution_count": 9,
     "metadata": {},
     "output_type": "execute_result"
    }
   ],
   "source": [
    "names.head()"
   ]
  },
  {
   "cell_type": "markdown",
   "execution_count": 49,
   "metadata": {},
   "outputs": [
    {
     "data": {
      "text/html": "<div>\n<style scoped>\n    .dataframe tbody tr th:only-of-type {\n        vertical-align: middle;\n    }\n\n    .dataframe tbody tr th {\n        vertical-align: top;\n    }\n\n    .dataframe thead th {\n        text-align: right;\n    }\n</style>\n<table border=\"1\" class=\"dataframe\">\n  <thead>\n    <tr style=\"text-align: right;\">\n      <th></th>\n      <th>Name</th>\n      <th>Frequency</th>\n    </tr>\n  </thead>\n  <tbody>\n    <tr>\n      <th>1000</th>\n      <td>MARIA</td>\n      <td>19173</td>\n    </tr>\n    <tr>\n      <th>1001</th>\n      <td>MONTSERRAT</td>\n      <td>16381</td>\n    </tr>\n    <tr>\n      <th>1002</th>\n      <td>MARTA</td>\n      <td>12754</td>\n    </tr>\n    <tr>\n      <th>1003</th>\n      <td>CARMEN</td>\n      <td>12296</td>\n    </tr>\n    <tr>\n      <th>1004</th>\n      <td>NURIA</td>\n      <td>11195</td>\n    </tr>\n    <tr>\n      <th>1005</th>\n      <td>LAURA</td>\n      <td>10629</td>\n    </tr>\n    <tr>\n      <th>1006</th>\n      <td>M CARMEN</td>\n      <td>10598</td>\n    </tr>\n    <tr>\n      <th>1007</th>\n      <td>CRISTINA</td>\n      <td>9704</td>\n    </tr>\n    <tr>\n      <th>1008</th>\n      <td>ISABEL</td>\n      <td>8662</td>\n    </tr>\n    <tr>\n      <th>1009</th>\n      <td>JOSEFA</td>\n      <td>7837</td>\n    </tr>\n    <tr>\n      <th>1010</th>\n      <td>ANA</td>\n      <td>7794</td>\n    </tr>\n    <tr>\n      <th>1011</th>\n      <td>ANNA</td>\n      <td>7606</td>\n    </tr>\n    <tr>\n      <th>1012</th>\n      <td>M TERESA</td>\n      <td>7499</td>\n    </tr>\n    <tr>\n      <th>1013</th>\n      <td>MERCEDES</td>\n      <td>7074</td>\n    </tr>\n    <tr>\n      <th>1014</th>\n      <td>PILAR</td>\n      <td>6798</td>\n    </tr>\n    <tr>\n      <th>1015</th>\n      <td>SILVIA</td>\n      <td>6204</td>\n    </tr>\n    <tr>\n      <th>1016</th>\n      <td>ROSA</td>\n      <td>6041</td>\n    </tr>\n    <tr>\n      <th>1017</th>\n      <td>ANA MARIA</td>\n      <td>5776</td>\n    </tr>\n    <tr>\n      <th>1018</th>\n      <td>JULIA</td>\n      <td>5680</td>\n    </tr>\n    <tr>\n      <th>1019</th>\n      <td>FRANCISCA</td>\n      <td>5509</td>\n    </tr>\n    <tr>\n      <th>1020</th>\n      <td>TERESA</td>\n      <td>5322</td>\n    </tr>\n    <tr>\n      <th>1021</th>\n      <td>ANTONIA</td>\n      <td>5230</td>\n    </tr>\n    <tr>\n      <th>1022</th>\n      <td>DOLORES</td>\n      <td>5130</td>\n    </tr>\n    <tr>\n      <th>1023</th>\n      <td>ELENA</td>\n      <td>5016</td>\n    </tr>\n    <tr>\n      <th>1024</th>\n      <td>SARA</td>\n      <td>4924</td>\n    </tr>\n    <tr>\n      <th>1025</th>\n      <td>LAIA</td>\n      <td>4833</td>\n    </tr>\n    <tr>\n      <th>1026</th>\n      <td>MONICA</td>\n      <td>4780</td>\n    </tr>\n    <tr>\n      <th>1027</th>\n      <td>CONCEPCION</td>\n      <td>4731</td>\n    </tr>\n    <tr>\n      <th>1028</th>\n      <td>M DOLORES</td>\n      <td>4713</td>\n    </tr>\n    <tr>\n      <th>1029</th>\n      <td>EVA</td>\n      <td>4498</td>\n    </tr>\n    <tr>\n      <th>1030</th>\n      <td>M PILAR</td>\n      <td>4476</td>\n    </tr>\n    <tr>\n      <th>1031</th>\n      <td>PAULA</td>\n      <td>4346</td>\n    </tr>\n    <tr>\n      <th>1032</th>\n      <td>MIREIA</td>\n      <td>4275</td>\n    </tr>\n    <tr>\n      <th>1033</th>\n      <td>ESTHER</td>\n      <td>4001</td>\n    </tr>\n    <tr>\n      <th>1034</th>\n      <td>M ROSA</td>\n      <td>3980</td>\n    </tr>\n    <tr>\n      <th>1035</th>\n      <td>SANDRA</td>\n      <td>3894</td>\n    </tr>\n    <tr>\n      <th>1036</th>\n      <td>M ISABEL</td>\n      <td>3876</td>\n    </tr>\n    <tr>\n      <th>1037</th>\n      <td>MARINA</td>\n      <td>3856</td>\n    </tr>\n    <tr>\n      <th>1038</th>\n      <td>RAQUEL</td>\n      <td>3840</td>\n    </tr>\n    <tr>\n      <th>1039</th>\n      <td>M ANGELES</td>\n      <td>3833</td>\n    </tr>\n    <tr>\n      <th>1040</th>\n      <td>ALBA</td>\n      <td>3782</td>\n    </tr>\n    <tr>\n      <th>1041</th>\n      <td>GEMMA</td>\n      <td>3728</td>\n    </tr>\n    <tr>\n      <th>1042</th>\n      <td>MARGARITA</td>\n      <td>3727</td>\n    </tr>\n    <tr>\n      <th>1043</th>\n      <td>ROSA MARIA</td>\n      <td>3684</td>\n    </tr>\n    <tr>\n      <th>1044</th>\n      <td>CARLA</td>\n      <td>3673</td>\n    </tr>\n    <tr>\n      <th>1045</th>\n      <td>SONIA</td>\n      <td>3651</td>\n    </tr>\n    <tr>\n      <th>1046</th>\n      <td>ANDREA</td>\n      <td>3617</td>\n    </tr>\n    <tr>\n      <th>1047</th>\n      <td>LUCIA</td>\n      <td>3604</td>\n    </tr>\n    <tr>\n      <th>1048</th>\n      <td>M LUISA</td>\n      <td>3467</td>\n    </tr>\n    <tr>\n      <th>1049</th>\n      <td>SUSANA</td>\n      <td>3457</td>\n    </tr>\n  </tbody>\n</table>\n</div>",
      "text/plain": "            Name  Frequency\n1000       MARIA      19173\n1001  MONTSERRAT      16381\n1002       MARTA      12754\n1003      CARMEN      12296\n1004       NURIA      11195\n1005       LAURA      10629\n1006    M CARMEN      10598\n1007    CRISTINA       9704\n1008      ISABEL       8662\n1009      JOSEFA       7837\n1010         ANA       7794\n1011        ANNA       7606\n1012    M TERESA       7499\n1013    MERCEDES       7074\n1014       PILAR       6798\n1015      SILVIA       6204\n1016        ROSA       6041\n1017   ANA MARIA       5776\n1018       JULIA       5680\n1019   FRANCISCA       5509\n1020      TERESA       5322\n1021     ANTONIA       5230\n1022     DOLORES       5130\n1023       ELENA       5016\n1024        SARA       4924\n1025        LAIA       4833\n1026      MONICA       4780\n1027  CONCEPCION       4731\n1028   M DOLORES       4713\n1029         EVA       4498\n1030     M PILAR       4476\n1031       PAULA       4346\n1032      MIREIA       4275\n1033      ESTHER       4001\n1034      M ROSA       3980\n1035      SANDRA       3894\n1036    M ISABEL       3876\n1037      MARINA       3856\n1038      RAQUEL       3840\n1039   M ANGELES       3833\n1040        ALBA       3782\n1041       GEMMA       3728\n1042   MARGARITA       3727\n1043  ROSA MARIA       3684\n1044       CARLA       3673\n1045       SONIA       3651\n1046      ANDREA       3617\n1047       LUCIA       3604\n1048     M LUISA       3467\n1049      SUSANA       3457"
     },
     "execution_count": 49,
     "metadata": {},
     "output_type": "execute_result"
    }
   ],
   "source": [
    "            ## What is the most  female frequent name in this century \n",
    "names.head()                                                 \n",
    "#names.columns\n",
    "#names.Decade.unique()\n",
    "names_total_F = names.loc[(names.Decade == 'TOTAL') & (names_total.Gender == 'Female')].loc[:,['Name','Frequency']]\n",
    "names_total_F\n",
    "#.sort_values('Frequency', ascending = True)\n",
    "#names_total_F.max()\n",
    "\n",
    "\n",
    "#names_total_M = names.loc[(names.Decade == 'TOTAL') & (names.Gender == 'Male')].loc[:,['Name', 'Frequency']]\n",
    "#names_total_M.sort_values('Frequency', ascending = False)\n",
    "#names_total_M.min()\n",
    "\n",
    "\n"
   ]
  },
  {
   "cell_type": "code",
   "execution_count": 51,
   "metadata": {},
   "outputs": [
    {
     "data": {
      "text/html": "<div>\n<style scoped>\n    .dataframe tbody tr th:only-of-type {\n        vertical-align: middle;\n    }\n\n    .dataframe tbody tr th {\n        vertical-align: top;\n    }\n\n    .dataframe thead th {\n        text-align: right;\n    }\n</style>\n<table border=\"1\" class=\"dataframe\">\n  <thead>\n    <tr style=\"text-align: right;\">\n      <th></th>\n      <th>Name</th>\n      <th>Frequency</th>\n    </tr>\n  </thead>\n  <tbody>\n    <tr>\n      <th>1050</th>\n      <td>ANTONIO</td>\n      <td>16709</td>\n    </tr>\n    <tr>\n      <th>1051</th>\n      <td>JOSE</td>\n      <td>15740</td>\n    </tr>\n    <tr>\n      <th>1052</th>\n      <td>JORDI</td>\n      <td>13723</td>\n    </tr>\n    <tr>\n      <th>1053</th>\n      <td>DAVID</td>\n      <td>12528</td>\n    </tr>\n    <tr>\n      <th>1054</th>\n      <td>MANUEL</td>\n      <td>12453</td>\n    </tr>\n    <tr>\n      <th>1055</th>\n      <td>FRANCISCO</td>\n      <td>12133</td>\n    </tr>\n    <tr>\n      <th>1056</th>\n      <td>CARLOS</td>\n      <td>10866</td>\n    </tr>\n    <tr>\n      <th>1057</th>\n      <td>JUAN</td>\n      <td>10760</td>\n    </tr>\n    <tr>\n      <th>1058</th>\n      <td>MARC</td>\n      <td>10099</td>\n    </tr>\n    <tr>\n      <th>1059</th>\n      <td>DANIEL</td>\n      <td>9715</td>\n    </tr>\n    <tr>\n      <th>1060</th>\n      <td>JAVIER</td>\n      <td>8387</td>\n    </tr>\n    <tr>\n      <th>1061</th>\n      <td>JORGE</td>\n      <td>8149</td>\n    </tr>\n    <tr>\n      <th>1062</th>\n      <td>JOAN</td>\n      <td>7211</td>\n    </tr>\n    <tr>\n      <th>1063</th>\n      <td>ALEJANDRO</td>\n      <td>6819</td>\n    </tr>\n    <tr>\n      <th>1064</th>\n      <td>MIGUEL</td>\n      <td>6438</td>\n    </tr>\n    <tr>\n      <th>1065</th>\n      <td>RAMON</td>\n      <td>6390</td>\n    </tr>\n    <tr>\n      <th>1066</th>\n      <td>ALBERT</td>\n      <td>6248</td>\n    </tr>\n    <tr>\n      <th>1067</th>\n      <td>LUIS</td>\n      <td>6108</td>\n    </tr>\n    <tr>\n      <th>1068</th>\n      <td>PEDRO</td>\n      <td>5933</td>\n    </tr>\n    <tr>\n      <th>1069</th>\n      <td>XAVIER</td>\n      <td>5869</td>\n    </tr>\n    <tr>\n      <th>1070</th>\n      <td>VICTOR</td>\n      <td>5818</td>\n    </tr>\n    <tr>\n      <th>1071</th>\n      <td>SERGIO</td>\n      <td>5640</td>\n    </tr>\n    <tr>\n      <th>1072</th>\n      <td>ALBERTO</td>\n      <td>5635</td>\n    </tr>\n    <tr>\n      <th>1073</th>\n      <td>JOSEP</td>\n      <td>5376</td>\n    </tr>\n    <tr>\n      <th>1074</th>\n      <td>OSCAR</td>\n      <td>5070</td>\n    </tr>\n    <tr>\n      <th>1075</th>\n      <td>RAFAEL</td>\n      <td>4883</td>\n    </tr>\n    <tr>\n      <th>1076</th>\n      <td>FERNANDO</td>\n      <td>4837</td>\n    </tr>\n    <tr>\n      <th>1077</th>\n      <td>ANGEL</td>\n      <td>4567</td>\n    </tr>\n    <tr>\n      <th>1078</th>\n      <td>ALEX</td>\n      <td>4448</td>\n    </tr>\n    <tr>\n      <th>1079</th>\n      <td>ENRIQUE</td>\n      <td>4439</td>\n    </tr>\n    <tr>\n      <th>1080</th>\n      <td>JOSE M</td>\n      <td>4367</td>\n    </tr>\n    <tr>\n      <th>1081</th>\n      <td>FRANCISCO JAVIER</td>\n      <td>4218</td>\n    </tr>\n    <tr>\n      <th>1082</th>\n      <td>JESUS</td>\n      <td>4132</td>\n    </tr>\n    <tr>\n      <th>1083</th>\n      <td>PAU</td>\n      <td>3993</td>\n    </tr>\n    <tr>\n      <th>1084</th>\n      <td>PABLO</td>\n      <td>3954</td>\n    </tr>\n    <tr>\n      <th>1085</th>\n      <td>JAIME</td>\n      <td>3939</td>\n    </tr>\n    <tr>\n      <th>1086</th>\n      <td>JOSE LUIS</td>\n      <td>3912</td>\n    </tr>\n    <tr>\n      <th>1087</th>\n      <td>POL</td>\n      <td>3855</td>\n    </tr>\n    <tr>\n      <th>1088</th>\n      <td>ORIOL</td>\n      <td>3701</td>\n    </tr>\n    <tr>\n      <th>1089</th>\n      <td>JOAQUIN</td>\n      <td>3663</td>\n    </tr>\n    <tr>\n      <th>1090</th>\n      <td>SANTIAGO</td>\n      <td>3547</td>\n    </tr>\n    <tr>\n      <th>1091</th>\n      <td>EDUARDO</td>\n      <td>3519</td>\n    </tr>\n    <tr>\n      <th>1092</th>\n      <td>SERGI</td>\n      <td>3456</td>\n    </tr>\n    <tr>\n      <th>1093</th>\n      <td>IVAN</td>\n      <td>3285</td>\n    </tr>\n    <tr>\n      <th>1094</th>\n      <td>JAUME</td>\n      <td>3204</td>\n    </tr>\n    <tr>\n      <th>1095</th>\n      <td>RAUL</td>\n      <td>3146</td>\n    </tr>\n    <tr>\n      <th>1096</th>\n      <td>JOSE MARIA</td>\n      <td>3140</td>\n    </tr>\n    <tr>\n      <th>1097</th>\n      <td>JOSE ANTONIO</td>\n      <td>2994</td>\n    </tr>\n    <tr>\n      <th>1098</th>\n      <td>RICARDO</td>\n      <td>2991</td>\n    </tr>\n    <tr>\n      <th>1099</th>\n      <td>GERARD</td>\n      <td>2988</td>\n    </tr>\n  </tbody>\n</table>\n</div>",
      "text/plain": "                  Name  Frequency\n1050           ANTONIO      16709\n1051              JOSE      15740\n1052             JORDI      13723\n1053             DAVID      12528\n1054            MANUEL      12453\n1055         FRANCISCO      12133\n1056            CARLOS      10866\n1057              JUAN      10760\n1058              MARC      10099\n1059            DANIEL       9715\n1060            JAVIER       8387\n1061             JORGE       8149\n1062              JOAN       7211\n1063         ALEJANDRO       6819\n1064            MIGUEL       6438\n1065             RAMON       6390\n1066            ALBERT       6248\n1067              LUIS       6108\n1068             PEDRO       5933\n1069            XAVIER       5869\n1070            VICTOR       5818\n1071            SERGIO       5640\n1072           ALBERTO       5635\n1073             JOSEP       5376\n1074             OSCAR       5070\n1075            RAFAEL       4883\n1076          FERNANDO       4837\n1077             ANGEL       4567\n1078              ALEX       4448\n1079           ENRIQUE       4439\n1080            JOSE M       4367\n1081  FRANCISCO JAVIER       4218\n1082             JESUS       4132\n1083               PAU       3993\n1084             PABLO       3954\n1085             JAIME       3939\n1086         JOSE LUIS       3912\n1087               POL       3855\n1088             ORIOL       3701\n1089           JOAQUIN       3663\n1090          SANTIAGO       3547\n1091           EDUARDO       3519\n1092             SERGI       3456\n1093              IVAN       3285\n1094             JAUME       3204\n1095              RAUL       3146\n1096        JOSE MARIA       3140\n1097      JOSE ANTONIO       2994\n1098           RICARDO       2991\n1099            GERARD       2988"
     },
     "execution_count": 51,
     "metadata": {},
     "output_type": "execute_result"
    }
   ],
   "source": [
    "            ## What is the most  male frequent name in this century \n",
    "\n",
    "\n",
    "names_total_M = names.loc[(names.Decade == 'TOTAL') & (names.Gender == 'Male')].loc[:,['Name', 'Frequency']]\n",
    "names_total_M.sort_values('Frequency', ascending = False)\n",
    "#names_total_M.min()\n"
   ]
  },
  {
   "cell_type": "code",
   "execution_count": null,
   "metadata": {},
   "outputs": [],
   "source": []
  }
 ]
}