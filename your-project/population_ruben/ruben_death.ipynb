{
 "nbformat": 4,
 "nbformat_minor": 2,
 "metadata": {
  "language_info": {
   "name": "python",
   "codemirror_mode": {
    "name": "ipython",
    "version": 3
   }
  },
  "orig_nbformat": 2,
  "file_extension": ".py",
  "mimetype": "text/x-python",
  "name": "python",
  "npconvert_exporter": "python",
  "pygments_lexer": "ipython3",
  "version": 3
 },
 "cells": [
  {
   "cell_type": "code",
   "execution_count": 1,
   "metadata": {},
   "outputs": [
    {
     "data": {
      "text/html": "<div>\n<style scoped>\n    .dataframe tbody tr th:only-of-type {\n        vertical-align: middle;\n    }\n\n    .dataframe tbody tr th {\n        vertical-align: top;\n    }\n\n    .dataframe thead th {\n        text-align: right;\n    }\n</style>\n<table border=\"1\" class=\"dataframe\">\n  <thead>\n    <tr style=\"text-align: right;\">\n      <th></th>\n      <th>Year</th>\n      <th>District.Code</th>\n      <th>District.Name</th>\n      <th>Neighborhood.Code</th>\n      <th>Neighborhood.Name</th>\n      <th>Age</th>\n      <th>Number</th>\n    </tr>\n  </thead>\n  <tbody>\n    <tr>\n      <th>0</th>\n      <td>2017</td>\n      <td>1</td>\n      <td>Ciutat Vella</td>\n      <td>1</td>\n      <td>el Raval</td>\n      <td>0-4</td>\n      <td>1</td>\n    </tr>\n    <tr>\n      <th>1</th>\n      <td>2017</td>\n      <td>1</td>\n      <td>Ciutat Vella</td>\n      <td>2</td>\n      <td>el Barri Gòtic</td>\n      <td>0-4</td>\n      <td>1</td>\n    </tr>\n    <tr>\n      <th>2</th>\n      <td>2017</td>\n      <td>1</td>\n      <td>Ciutat Vella</td>\n      <td>3</td>\n      <td>la Barceloneta</td>\n      <td>0-4</td>\n      <td>0</td>\n    </tr>\n    <tr>\n      <th>3</th>\n      <td>2017</td>\n      <td>1</td>\n      <td>Ciutat Vella</td>\n      <td>4</td>\n      <td>Sant Pere, Santa Caterina i la Ribera</td>\n      <td>0-4</td>\n      <td>0</td>\n    </tr>\n    <tr>\n      <th>4</th>\n      <td>2017</td>\n      <td>2</td>\n      <td>Eixample</td>\n      <td>5</td>\n      <td>el Fort Pienc</td>\n      <td>0-4</td>\n      <td>0</td>\n    </tr>\n  </tbody>\n</table>\n</div>",
      "text/plain": "   Year  District.Code District.Name  Neighborhood.Code  \\\n0  2017              1  Ciutat Vella                  1   \n1  2017              1  Ciutat Vella                  2   \n2  2017              1  Ciutat Vella                  3   \n3  2017              1  Ciutat Vella                  4   \n4  2017              2      Eixample                  5   \n\n                       Neighborhood.Name  Age  Number  \n0                               el Raval  0-4       1  \n1                         el Barri Gòtic  0-4       1  \n2                         la Barceloneta  0-4       0  \n3  Sant Pere, Santa Caterina i la Ribera  0-4       0  \n4                          el Fort Pienc  0-4       0  "
     },
     "execution_count": 1,
     "metadata": {},
     "output_type": "execute_result"
    }
   ],
   "source": [
    "import pandas as  pd \n",
    "\n",
    "## we call the files necessary to answer the questions. In this case: death and population\n",
    "\n",
    "death = pd.read_csv('../Project-Week-2-Barcelona/datasets/3.-Population/deaths.csv')\n",
    "population = pd.read_csv('../Project-Week-2-Barcelona/datasets/3.-Population/population.csv')\n",
    "birth = pd.read_csv('../Project-Week-2-Barcelona/datasets/3.-Population/births.csv')\n",
    "\n",
    "#######ADDITIONAL NOTE\n",
    "\n",
    "###to save the excel file\n",
    "####ratio_death_2017.to_excel(r'../Project-Week-2-Barcelona/your-project/images/ratio_death_2017.xlsx')\n",
    "death.head()"
   ]
  },
  {
   "cell_type": "code",
   "execution_count": 8,
   "metadata": {},
   "outputs": [
    {
     "data": {
      "text/html": "<div>\n<style scoped>\n    .dataframe tbody tr th:only-of-type {\n        vertical-align: middle;\n    }\n\n    .dataframe tbody tr th {\n        vertical-align: top;\n    }\n\n    .dataframe thead th {\n        text-align: right;\n    }\n</style>\n<table border=\"1\" class=\"dataframe\">\n  <thead>\n    <tr style=\"text-align: right;\">\n      <th></th>\n      <th>Number</th>\n    </tr>\n    <tr>\n      <th>Age</th>\n      <th></th>\n    </tr>\n  </thead>\n  <tbody>\n    <tr>\n      <th>85-89</th>\n      <td>3424</td>\n    </tr>\n    <tr>\n      <th>90-94</th>\n      <td>3012</td>\n    </tr>\n    <tr>\n      <th>80-84</th>\n      <td>2534</td>\n    </tr>\n    <tr>\n      <th>75-79</th>\n      <td>1389</td>\n    </tr>\n    <tr>\n      <th>95-99</th>\n      <td>1352</td>\n    </tr>\n    <tr>\n      <th>70-74</th>\n      <td>1082</td>\n    </tr>\n    <tr>\n      <th>65-69</th>\n      <td>803</td>\n    </tr>\n    <tr>\n      <th>60-64</th>\n      <td>586</td>\n    </tr>\n    <tr>\n      <th>55-59</th>\n      <td>422</td>\n    </tr>\n    <tr>\n      <th>50-54</th>\n      <td>284</td>\n    </tr>\n    <tr>\n      <th>&gt;=100</th>\n      <td>272</td>\n    </tr>\n    <tr>\n      <th>45-49</th>\n      <td>154</td>\n    </tr>\n    <tr>\n      <th>40-44</th>\n      <td>99</td>\n    </tr>\n    <tr>\n      <th>35-39</th>\n      <td>52</td>\n    </tr>\n    <tr>\n      <th>30-34</th>\n      <td>24</td>\n    </tr>\n    <tr>\n      <th>0-4</th>\n      <td>23</td>\n    </tr>\n    <tr>\n      <th>25-29</th>\n      <td>17</td>\n    </tr>\n    <tr>\n      <th>20-24</th>\n      <td>12</td>\n    </tr>\n    <tr>\n      <th>15-19</th>\n      <td>10</td>\n    </tr>\n    <tr>\n      <th>10-14</th>\n      <td>7</td>\n    </tr>\n    <tr>\n      <th>5-9</th>\n      <td>6</td>\n    </tr>\n  </tbody>\n</table>\n</div>",
      "text/plain": "       Number\nAge          \n85-89    3424\n90-94    3012\n80-84    2534\n75-79    1389\n95-99    1352\n70-74    1082\n65-69     803\n60-64     586\n55-59     422\n50-54     284\n>=100     272\n45-49     154\n40-44      99\n35-39      52\n30-34      24\n0-4        23\n25-29      17\n20-24      12\n15-19      10\n10-14       7\n5-9         6"
     },
     "execution_count": 8,
     "metadata": {},
     "output_type": "execute_result"
    }
   ],
   "source": [
    "   ###############HOW MANY PEOPLE DIED IN DIFFERENT DISTRICTS OF BARCELONA? AND IN DIFFERENT YEARS?########################\n",
    "\n",
    "\n",
    "\n",
    "########see the first rows of the file.csv\n",
    "death.head() \n",
    "########see the name of the columns\n",
    "death.columns\n",
    "\n",
    "\n",
    "########GLOBAL VISON ABOUT BORN PEOPLE BY YEAR, DISTRICT AND AGE sorted by # of dead people\n",
    "death_cleaning = death.groupby(['Year','District.Name',]).sum().loc[:,['Number']] \n",
    "death_cleaning\n",
    "\n",
    "death_cleaning_summary = death_cleaning.groupby(level=[0,1], group_keys=False).apply(lambda group: group.sort_values('Number', ascending=False))\n",
    "death_cleaning_summary\n",
    "\n",
    "\n",
    "#######Declaration to see how many dead people died  in 2017 year, grouped by the name of District.\n",
    "\n",
    "death_2017 = death.loc[(death.Year == 2017)].groupby(['District.Name']).sum().loc[:,['Number']]  \n",
    "death_2017 .sort_values('Number', ascending = False)\n",
    "\n",
    "#######Declaration to see how many dead people died  in 2017 year, grouped by the age of people.\n",
    "\n",
    "death_2017_age = death.loc[(death.Year == 2017)].groupby(['Age']).sum().loc[:,['Number']]  \n",
    "death_2017_age.sort_values('Number', ascending = False)\n"
   ]
  },
  {
   "cell_type": "markdown",
   "execution_count": 3,
   "metadata": {},
   "outputs": [
    {
     "data": {
      "text/html": "<div>\n<style scoped>\n    .dataframe tbody tr th:only-of-type {\n        vertical-align: middle;\n    }\n\n    .dataframe tbody tr th {\n        vertical-align: top;\n    }\n\n    .dataframe thead th {\n        text-align: right;\n    }\n</style>\n<table border=\"1\" class=\"dataframe\">\n  <thead>\n    <tr style=\"text-align: right;\">\n      <th></th>\n      <th>Number</th>\n    </tr>\n    <tr>\n      <th>District.Name</th>\n      <th></th>\n    </tr>\n  </thead>\n  <tbody>\n    <tr>\n      <th>Eixample</th>\n      <td>266416</td>\n    </tr>\n    <tr>\n      <th>Sant Martí</th>\n      <td>235513</td>\n    </tr>\n    <tr>\n      <th>Sants-Montjuïc</th>\n      <td>181910</td>\n    </tr>\n    <tr>\n      <th>Horta-Guinardó</th>\n      <td>168751</td>\n    </tr>\n    <tr>\n      <th>Nou Barris</th>\n      <td>166579</td>\n    </tr>\n    <tr>\n      <th>Sarrià-Sant Gervasi</th>\n      <td>149279</td>\n    </tr>\n    <tr>\n      <th>Sant Andreu</th>\n      <td>147594</td>\n    </tr>\n    <tr>\n      <th>Gràcia</th>\n      <td>121347</td>\n    </tr>\n    <tr>\n      <th>Ciutat Vella</th>\n      <td>101387</td>\n    </tr>\n    <tr>\n      <th>Les Corts</th>\n      <td>82033</td>\n    </tr>\n  </tbody>\n</table>\n</div>",
      "text/plain": "                     Number\nDistrict.Name              \nEixample             266416\nSant Martí           235513\nSants-Montjuïc       181910\nHorta-Guinardó       168751\nNou Barris           166579\nSarrià-Sant Gervasi  149279\nSant Andreu          147594\nGràcia               121347\nCiutat Vella         101387\nLes Corts             82033"
     },
     "execution_count": 3,
     "metadata": {},
     "output_type": "execute_result"
    }
   ],
   "source": [
    "    ###############HOW MANY PEOPLE LIVE IN DIFFERENT DISTRICTS OF BARCELONA? AND IN DIFFERENT YEARS?########################\n",
    "\n",
    "\n",
    "\n",
    "#######How many people live currently in 2017?\n",
    "population.head()   \n",
    "\n",
    "\n",
    "########GLOBAL VISON ABOUT POPULATION  BY YEAR, DISTRICT AND AGE sorted by # people\n",
    "population_cleaning = population.groupby(['Year','District.Name','Age']).sum().loc[:,['Number']] \n",
    "population_summary = population_cleaning.groupby(level=[0,1], group_keys=False).apply(lambda group: group.sort_values('Number', ascending=False))\n",
    "population_summary\n",
    "\n",
    "\n",
    "\n",
    "\n",
    "#######Declaration to see how many people live in XXXX, grouped by the name of District and the age of people (indexes) and showing as data the #######of dead people.\n",
    "population_2017 = population.loc[(population.Year == 2017)].groupby(['District.Name']).sum().loc[:,['Number']]  \n",
    "population_2017.sort_values('Number', ascending = False)\n"
   ]
  },
  {
   "cell_type": "code",
   "execution_count": 85,
   "metadata": {},
   "outputs": [
    {
     "data": {
      "text/html": "<div>\n<style scoped>\n    .dataframe tbody tr th:only-of-type {\n        vertical-align: middle;\n    }\n\n    .dataframe tbody tr th {\n        vertical-align: top;\n    }\n\n    .dataframe thead th {\n        text-align: right;\n    }\n</style>\n<table border=\"1\" class=\"dataframe\">\n  <thead>\n    <tr style=\"text-align: right;\">\n      <th></th>\n      <th>Number</th>\n    </tr>\n    <tr>\n      <th>District.Name</th>\n      <th></th>\n    </tr>\n  </thead>\n  <tbody>\n    <tr>\n      <th>Ciutat Vella</th>\n      <td>8.018780</td>\n    </tr>\n    <tr>\n      <th>Eixample</th>\n      <td>10.277161</td>\n    </tr>\n    <tr>\n      <th>Gràcia</th>\n      <td>9.691216</td>\n    </tr>\n    <tr>\n      <th>Horta-Guinardó</th>\n      <td>10.702159</td>\n    </tr>\n    <tr>\n      <th>Les Corts</th>\n      <td>9.325515</td>\n    </tr>\n    <tr>\n      <th>Nou Barris</th>\n      <td>10.499523</td>\n    </tr>\n    <tr>\n      <th>Sant Andreu</th>\n      <td>8.984105</td>\n    </tr>\n    <tr>\n      <th>Sant Martí</th>\n      <td>8.785078</td>\n    </tr>\n    <tr>\n      <th>Sants-Montjuïc</th>\n      <td>9.675114</td>\n    </tr>\n    <tr>\n      <th>Sarrià-Sant Gervasi</th>\n      <td>9.123855</td>\n    </tr>\n  </tbody>\n</table>\n</div>",
      "text/plain": "                        Number\nDistrict.Name                 \nCiutat Vella          8.018780\nEixample             10.277161\nGràcia                9.691216\nHorta-Guinardó       10.702159\nLes Corts             9.325515\nNou Barris           10.499523\nSant Andreu           8.984105\nSant Martí            8.785078\nSants-Montjuïc        9.675114\nSarrià-Sant Gervasi   9.123855"
     },
     "execution_count": 85,
     "metadata": {},
     "output_type": "execute_result"
    }
   ],
   "source": [
    "ratio_death_2017"
   ]
  },
  {
   "cell_type": "code",
   "execution_count": 4,
   "metadata": {},
   "outputs": [
    {
     "ename": "NameError",
     "evalue": "name 'deaths_cleaning' is not defined",
     "output_type": "error",
     "traceback": [
      "\u001b[0;31m---------------------------------------------------------------------------\u001b[0m",
      "\u001b[0;31mNameError\u001b[0m                                 Traceback (most recent call last)",
      "\u001b[0;32m<ipython-input-4-9b805dc18fce>\u001b[0m in \u001b[0;36m<module>\u001b[0;34m\u001b[0m\n\u001b[1;32m      3\u001b[0m \u001b[0;31m#######The death_ratio is  for different YEARS, different District and for different ages range.\u001b[0m\u001b[0;34m\u001b[0m\u001b[0;34m\u001b[0m\u001b[0;34m\u001b[0m\u001b[0m\n\u001b[1;32m      4\u001b[0m \u001b[0;34m\u001b[0m\u001b[0m\n\u001b[0;32m----> 5\u001b[0;31m \u001b[0mratio_death\u001b[0m \u001b[0;34m=\u001b[0m \u001b[0mdeaths_cleaning\u001b[0m\u001b[0;34m.\u001b[0m\u001b[0mmul\u001b[0m\u001b[0;34m(\u001b[0m\u001b[0;36m1000\u001b[0m\u001b[0;34m)\u001b[0m\u001b[0;34m.\u001b[0m\u001b[0mdiv\u001b[0m\u001b[0;34m(\u001b[0m\u001b[0mpopulation_cleaning\u001b[0m\u001b[0;34m.\u001b[0m\u001b[0miloc\u001b[0m\u001b[0;34m[\u001b[0m\u001b[0;36m0\u001b[0m\u001b[0;34m]\u001b[0m\u001b[0;34m)\u001b[0m\u001b[0;34m\u001b[0m\u001b[0;34m\u001b[0m\u001b[0m\n\u001b[0m\u001b[1;32m      6\u001b[0m \u001b[0mratio_death\u001b[0m\u001b[0;34m\u001b[0m\u001b[0;34m\u001b[0m\u001b[0m\n\u001b[1;32m      7\u001b[0m \u001b[0;34m\u001b[0m\u001b[0m\n",
      "\u001b[0;31mNameError\u001b[0m: name 'deaths_cleaning' is not defined"
     ]
    }
   ],
   "source": [
    "###############WHAT IS THE DEATH RATIO IN BARCELONA FOR DIFFERENT DISTRICTS OF BARCELONA?########################\n",
    "\n",
    "#######The death_ratio is  for different YEARS, different District and for different ages range.\n",
    "\n",
    "ratio_death = deaths_cleaning.mul(1000).div(population_cleaning.iloc[0])\n",
    "ratio_death\n",
    "\n",
    "#######Declaration to see how much is the death ratio for each year ('15,'16, '17) in different districts in Barcelona, grouping by ages. \n",
    "\n",
    "ratio_death_2016 = deaths_2016.mul(1000).div(population_2016)\n",
    "ratio_death_2016.sort_values('Number', ascending = False)\n",
    "\n",
    "\n",
    "###to save the excel file\n",
    "####ratio_death_2017.to_excel(r'../Project-Week-2-Barcelona/your-project/images/ratio_death_2017.xlsx')"
   ]
  },
  {
   "cell_type": "code",
   "execution_count": null,
   "metadata": {},
   "outputs": [],
   "source": []
  }
 ]
}