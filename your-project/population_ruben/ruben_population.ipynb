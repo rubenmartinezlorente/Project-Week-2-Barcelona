{
 "nbformat": 4,
 "nbformat_minor": 2,
 "metadata": {
  "language_info": {
   "name": "python",
   "codemirror_mode": {
    "name": "ipython",
    "version": 3
   }
  },
  "orig_nbformat": 2,
  "file_extension": ".py",
  "mimetype": "text/x-python",
  "name": "python",
  "npconvert_exporter": "python",
  "pygments_lexer": "ipython3",
  "version": 3
 },
 "cells": [
  {
   "cell_type": "code",
   "execution_count": 1,
   "metadata": {},
   "outputs": [],
   "source": [
    "import pandas as  pd \n",
    "\n",
    "## we call the files necessary to answer the questions. In this case:  population\n",
    "\n",
    "population = pd.read_csv('../Project-Week-2-Barcelona/datasets/3.-Population/population.csv')\n"
   ]
  },
  {
   "cell_type": "code",
   "execution_count": 10,
   "metadata": {},
   "outputs": [
    {
     "data": {
      "text/html": "<div>\n<style scoped>\n    .dataframe tbody tr th:only-of-type {\n        vertical-align: middle;\n    }\n\n    .dataframe tbody tr th {\n        vertical-align: top;\n    }\n\n    .dataframe thead th {\n        text-align: right;\n    }\n</style>\n<table border=\"1\" class=\"dataframe\">\n  <thead>\n    <tr style=\"text-align: right;\">\n      <th></th>\n      <th>Number</th>\n    </tr>\n    <tr>\n      <th>District.Name</th>\n      <th></th>\n    </tr>\n  </thead>\n  <tbody>\n    <tr>\n      <th>Eixample</th>\n      <td>266416</td>\n    </tr>\n    <tr>\n      <th>Sant Martí</th>\n      <td>235513</td>\n    </tr>\n    <tr>\n      <th>Sants-Montjuïc</th>\n      <td>181910</td>\n    </tr>\n    <tr>\n      <th>Horta-Guinardó</th>\n      <td>168751</td>\n    </tr>\n    <tr>\n      <th>Nou Barris</th>\n      <td>166579</td>\n    </tr>\n    <tr>\n      <th>Sarrià-Sant Gervasi</th>\n      <td>149279</td>\n    </tr>\n    <tr>\n      <th>Sant Andreu</th>\n      <td>147594</td>\n    </tr>\n    <tr>\n      <th>Gràcia</th>\n      <td>121347</td>\n    </tr>\n    <tr>\n      <th>Ciutat Vella</th>\n      <td>101387</td>\n    </tr>\n    <tr>\n      <th>Les Corts</th>\n      <td>82033</td>\n    </tr>\n  </tbody>\n</table>\n</div>",
      "text/plain": "                     Number\nDistrict.Name              \nEixample             266416\nSant Martí           235513\nSants-Montjuïc       181910\nHorta-Guinardó       168751\nNou Barris           166579\nSarrià-Sant Gervasi  149279\nSant Andreu          147594\nGràcia               121347\nCiutat Vella         101387\nLes Corts             82033"
     },
     "execution_count": 10,
     "metadata": {},
     "output_type": "execute_result"
    }
   ],
   "source": [
    "############### WHAT IS THE MOST POPULATED DISTRICT IN BARCELONA? AND IN THE PAST?   ########################\n",
    "\n",
    "\n",
    "########see the first rows of the file.csv\n",
    "\n",
    "population.head()    \n",
    "########see the names of the columns\n",
    "                           \n",
    "population.columns\n",
    "\n",
    "\n",
    "################GLOBAL VISON ABOUT THE POPULATION  BY YEAR, DISTRICT  sorted by # of  people\n",
    "\n",
    "district_global = population.groupby(['Year','District.Name']).sum().loc[:,['Number']]  \n",
    "district_global.groupby(level=[0,1], group_keys=False).apply(lambda group: group.sort_values('Number', ascending=False))\n",
    "\n",
    "################GLOBAL VISON ABOUT THE POPULATION  BY YEAR, DISTRICT  sorted by # of  people\n",
    "\n",
    "#######Declaration to see how many people live in the year XXXX, grouped by the name of District and the age of people (indexes) and showing as data the #######of dead people.\n",
    "\n",
    "district_2017 = population.loc[(population.Year == 2017)].groupby(['District.Name']).sum().loc[:,['Number']]  \n",
    "district_2017.sort_values('Number', ascending = False)\n",
    "\n"
   ]
  },
  {
   "cell_type": "code",
   "execution_count": 19,
   "metadata": {},
   "outputs": [
    {
     "data": {
      "text/html": "<div>\n<style scoped>\n    .dataframe tbody tr th:only-of-type {\n        vertical-align: middle;\n    }\n\n    .dataframe tbody tr th {\n        vertical-align: top;\n    }\n\n    .dataframe thead th {\n        text-align: right;\n    }\n</style>\n<table border=\"1\" class=\"dataframe\">\n  <thead>\n    <tr style=\"text-align: right;\">\n      <th></th>\n      <th></th>\n      <th>Number</th>\n    </tr>\n    <tr>\n      <th>Year</th>\n      <th>District.Name</th>\n      <th></th>\n    </tr>\n  </thead>\n  <tbody>\n    <tr>\n      <th rowspan=\"10\" valign=\"top\">2013</th>\n      <th>Ciutat Vella</th>\n      <td>103339</td>\n    </tr>\n    <tr>\n      <th>Eixample</th>\n      <td>264780</td>\n    </tr>\n    <tr>\n      <th>Gràcia</th>\n      <td>120949</td>\n    </tr>\n    <tr>\n      <th>Horta-Guinardó</th>\n      <td>167743</td>\n    </tr>\n    <tr>\n      <th>Les Corts</th>\n      <td>81640</td>\n    </tr>\n    <tr>\n      <th>Nou Barris</th>\n      <td>165748</td>\n    </tr>\n    <tr>\n      <th>Sant Andreu</th>\n      <td>146846</td>\n    </tr>\n    <tr>\n      <th>Sant Martí</th>\n      <td>232826</td>\n    </tr>\n    <tr>\n      <th>Sants-Montjuïc</th>\n      <td>182685</td>\n    </tr>\n    <tr>\n      <th>Sarrià-Sant Gervasi</th>\n      <td>145266</td>\n    </tr>\n    <tr>\n      <th rowspan=\"10\" valign=\"top\">2014</th>\n      <th>Ciutat Vella</th>\n      <td>100685</td>\n    </tr>\n    <tr>\n      <th>Eixample</th>\n      <td>263565</td>\n    </tr>\n    <tr>\n      <th>Gràcia</th>\n      <td>120273</td>\n    </tr>\n    <tr>\n      <th>Horta-Guinardó</th>\n      <td>166950</td>\n    </tr>\n    <tr>\n      <th>Les Corts</th>\n      <td>81200</td>\n    </tr>\n    <tr>\n      <th>Nou Barris</th>\n      <td>164516</td>\n    </tr>\n    <tr>\n      <th>Sant Andreu</th>\n      <td>145983</td>\n    </tr>\n    <tr>\n      <th>Sant Martí</th>\n      <td>232629</td>\n    </tr>\n    <tr>\n      <th>Sants-Montjuïc</th>\n      <td>180824</td>\n    </tr>\n    <tr>\n      <th>Sarrià-Sant Gervasi</th>\n      <td>145761</td>\n    </tr>\n    <tr>\n      <th rowspan=\"10\" valign=\"top\">2015</th>\n      <th>Ciutat Vella</th>\n      <td>100115</td>\n    </tr>\n    <tr>\n      <th>Eixample</th>\n      <td>263558</td>\n    </tr>\n    <tr>\n      <th>Gràcia</th>\n      <td>120401</td>\n    </tr>\n    <tr>\n      <th>Horta-Guinardó</th>\n      <td>166559</td>\n    </tr>\n    <tr>\n      <th>Les Corts</th>\n      <td>81530</td>\n    </tr>\n    <tr>\n      <th>Nou Barris</th>\n      <td>164648</td>\n    </tr>\n    <tr>\n      <th>Sant Andreu</th>\n      <td>146494</td>\n    </tr>\n    <tr>\n      <th>Sant Martí</th>\n      <td>233659</td>\n    </tr>\n    <tr>\n      <th>Sants-Montjuïc</th>\n      <td>180757</td>\n    </tr>\n    <tr>\n      <th>Sarrià-Sant Gervasi</th>\n      <td>146834</td>\n    </tr>\n    <tr>\n      <th rowspan=\"10\" valign=\"top\">2016</th>\n      <th>Ciutat Vella</th>\n      <td>100070</td>\n    </tr>\n    <tr>\n      <th>Eixample</th>\n      <td>264305</td>\n    </tr>\n    <tr>\n      <th>Gràcia</th>\n      <td>120918</td>\n    </tr>\n    <tr>\n      <th>Horta-Guinardó</th>\n      <td>167268</td>\n    </tr>\n    <tr>\n      <th>Les Corts</th>\n      <td>81642</td>\n    </tr>\n    <tr>\n      <th>Nou Barris</th>\n      <td>164881</td>\n    </tr>\n    <tr>\n      <th>Sant Andreu</th>\n      <td>146731</td>\n    </tr>\n    <tr>\n      <th>Sant Martí</th>\n      <td>233928</td>\n    </tr>\n    <tr>\n      <th>Sants-Montjuïc</th>\n      <td>180977</td>\n    </tr>\n    <tr>\n      <th>Sarrià-Sant Gervasi</th>\n      <td>148026</td>\n    </tr>\n    <tr>\n      <th rowspan=\"10\" valign=\"top\">2017</th>\n      <th>Ciutat Vella</th>\n      <td>101387</td>\n    </tr>\n    <tr>\n      <th>Eixample</th>\n      <td>266416</td>\n    </tr>\n    <tr>\n      <th>Gràcia</th>\n      <td>121347</td>\n    </tr>\n    <tr>\n      <th>Horta-Guinardó</th>\n      <td>168751</td>\n    </tr>\n    <tr>\n      <th>Les Corts</th>\n      <td>82033</td>\n    </tr>\n    <tr>\n      <th>Nou Barris</th>\n      <td>166579</td>\n    </tr>\n    <tr>\n      <th>Sant Andreu</th>\n      <td>147594</td>\n    </tr>\n    <tr>\n      <th>Sant Martí</th>\n      <td>235513</td>\n    </tr>\n    <tr>\n      <th>Sants-Montjuïc</th>\n      <td>181910</td>\n    </tr>\n    <tr>\n      <th>Sarrià-Sant Gervasi</th>\n      <td>149279</td>\n    </tr>\n  </tbody>\n</table>\n</div>",
      "text/plain": "                          Number\nYear District.Name              \n2013 Ciutat Vella         103339\n     Eixample             264780\n     Gràcia               120949\n     Horta-Guinardó       167743\n     Les Corts             81640\n     Nou Barris           165748\n     Sant Andreu          146846\n     Sant Martí           232826\n     Sants-Montjuïc       182685\n     Sarrià-Sant Gervasi  145266\n2014 Ciutat Vella         100685\n     Eixample             263565\n     Gràcia               120273\n     Horta-Guinardó       166950\n     Les Corts             81200\n     Nou Barris           164516\n     Sant Andreu          145983\n     Sant Martí           232629\n     Sants-Montjuïc       180824\n     Sarrià-Sant Gervasi  145761\n2015 Ciutat Vella         100115\n     Eixample             263558\n     Gràcia               120401\n     Horta-Guinardó       166559\n     Les Corts             81530\n     Nou Barris           164648\n     Sant Andreu          146494\n     Sant Martí           233659\n     Sants-Montjuïc       180757\n     Sarrià-Sant Gervasi  146834\n2016 Ciutat Vella         100070\n     Eixample             264305\n     Gràcia               120918\n     Horta-Guinardó       167268\n     Les Corts             81642\n     Nou Barris           164881\n     Sant Andreu          146731\n     Sant Martí           233928\n     Sants-Montjuïc       180977\n     Sarrià-Sant Gervasi  148026\n2017 Ciutat Vella         101387\n     Eixample             266416\n     Gràcia               121347\n     Horta-Guinardó       168751\n     Les Corts             82033\n     Nou Barris           166579\n     Sant Andreu          147594\n     Sant Martí           235513\n     Sants-Montjuïc       181910\n     Sarrià-Sant Gervasi  149279"
     },
     "execution_count": 19,
     "metadata": {},
     "output_type": "execute_result"
    }
   ],
   "source": [
    "            ## What is the most populated district in Barcelona.\n",
    "\n",
    "district = population.loc[(population.Year == 2017)].groupby(['District.Name','Age','Gender']).sum().loc[:,['Number']]  \n",
    "district\n",
    "\n",
    "district2 = population.groupby(['Year','District.Name']).sum().loc[:,['Number']]  \n",
    "district2.groupby(level=[0,1], group_keys=False).apply(lambda group: group.sort_values('Number', ascending=False))\n"
   ]
  },
  {
   "cell_type": "markdown",
   "execution_count": 260,
   "metadata": {},
   "outputs": [
    {
     "data": {
      "text/html": "<div>\n<style scoped>\n    .dataframe tbody tr th:only-of-type {\n        vertical-align: middle;\n    }\n\n    .dataframe tbody tr th {\n        vertical-align: top;\n    }\n\n    .dataframe thead th {\n        text-align: right;\n    }\n</style>\n<table border=\"1\" class=\"dataframe\">\n  <thead>\n    <tr style=\"text-align: right;\">\n      <th></th>\n      <th>Number</th>\n    </tr>\n    <tr>\n      <th>Age</th>\n      <th></th>\n    </tr>\n  </thead>\n  <tbody>\n    <tr>\n      <th>85-89</th>\n      <td>5.005702</td>\n    </tr>\n    <tr>\n      <th>90-94</th>\n      <td>4.403380</td>\n    </tr>\n    <tr>\n      <th>80-84</th>\n      <td>3.704570</td>\n    </tr>\n    <tr>\n      <th>75-79</th>\n      <td>2.030642</td>\n    </tr>\n    <tr>\n      <th>95-99</th>\n      <td>1.976550</td>\n    </tr>\n    <tr>\n      <th>70-74</th>\n      <td>1.581825</td>\n    </tr>\n    <tr>\n      <th>65-69</th>\n      <td>1.173942</td>\n    </tr>\n    <tr>\n      <th>60-64</th>\n      <td>0.856700</td>\n    </tr>\n    <tr>\n      <th>55-59</th>\n      <td>0.616941</td>\n    </tr>\n    <tr>\n      <th>50-54</th>\n      <td>0.415193</td>\n    </tr>\n    <tr>\n      <th>&gt;=100</th>\n      <td>0.397649</td>\n    </tr>\n    <tr>\n      <th>45-49</th>\n      <td>0.225140</td>\n    </tr>\n    <tr>\n      <th>40-44</th>\n      <td>0.144733</td>\n    </tr>\n    <tr>\n      <th>35-39</th>\n      <td>0.076021</td>\n    </tr>\n    <tr>\n      <th>30-34</th>\n      <td>0.035087</td>\n    </tr>\n    <tr>\n      <th>0-4</th>\n      <td>0.033625</td>\n    </tr>\n    <tr>\n      <th>25-29</th>\n      <td>0.024853</td>\n    </tr>\n    <tr>\n      <th>20-24</th>\n      <td>0.017543</td>\n    </tr>\n    <tr>\n      <th>15-19</th>\n      <td>0.014619</td>\n    </tr>\n    <tr>\n      <th>10-14</th>\n      <td>0.010234</td>\n    </tr>\n    <tr>\n      <th>5-9</th>\n      <td>0.008772</td>\n    </tr>\n  </tbody>\n</table>\n</div>",
      "text/plain": "         Number\nAge            \n85-89  5.005702\n90-94  4.403380\n80-84  3.704570\n75-79  2.030642\n95-99  1.976550\n70-74  1.581825\n65-69  1.173942\n60-64  0.856700\n55-59  0.616941\n50-54  0.415193\n>=100  0.397649\n45-49  0.225140\n40-44  0.144733\n35-39  0.076021\n30-34  0.035087\n0-4    0.033625\n25-29  0.024853\n20-24  0.017543\n15-19  0.014619\n10-14  0.010234\n5-9    0.008772"
     },
     "execution_count": 260,
     "metadata": {},
     "output_type": "execute_result"
    }
   ],
   "source": [
    "            ## What is the death rate by age.\n",
    "    ###How many people died in 2017?\n",
    "\n",
    "death.head()                                            ##see the first rows of the file.csv\n",
    "deaths_2017 = death.loc[(death.Year == 2017)].groupby(['Age']).sum().loc[:,['Number']]  \n",
    "deaths_2017\n",
    "\n",
    "\n",
    "            #How many people live currently in 2017?\n",
    "population.head()                                            ##see the first rows of the file.csv\n",
    "population_2017 = population.loc[(population.Year == 2017)].groupby(['Age']).sum().loc[:,['Number']]  \n",
    "population_2017\n",
    "\n",
    "\n",
    "            #The death_ratio is\n",
    "ratio_death_age = deaths_2017.mul(100).div(population_2017.iloc[0])\n",
    "ratio_death_age.sort_values('Number', ascending = False)\n",
    "#ratio_death_age.describe()\n"
   ]
  }
 ]
}