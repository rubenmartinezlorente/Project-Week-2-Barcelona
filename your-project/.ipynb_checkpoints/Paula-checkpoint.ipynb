{
 "cells": [
  {
   "cell_type": "markdown",
   "metadata": {},
   "source": [
    "Questions on Immigration"
   ]
  },
  {
   "cell_type": "code",
   "execution_count": 1,
   "metadata": {},
   "outputs": [],
   "source": [
    "import pandas as pd"
   ]
  },
  {
   "cell_type": "markdown",
   "metadata": {},
   "source": [
    "What is the most frequent nationality?\n",
    "Is there more male or female immigrants?\n",
    "Are they young or old? How much is the difference between these range? (define age ranges before)\n",
    "Do immigrants live in neighbourhoods where mean rent is lower?\n",
    "Do immigrants of the same nationality settle close to one another?\n"
   ]
  },
  {
   "cell_type": "code",
   "execution_count": 2,
   "metadata": {},
   "outputs": [],
   "source": [
    "##files to import\n",
    "\n",
    "by_nationality = pd.read_csv(\"/Users/p/Documents/Ironhack/Projects/Project-Week-2-Barcelona/datasets/3.-Population/immigrants-by-nationality.csv\")\n",
    "population=pd.read_csv(\"/Users/p/Documents/Ironhack/Projects/Project-Week-2-Barcelona/datasets/3.-Population/population.csv\")"
   ]
  },
  {
   "cell_type": "code",
   "execution_count": null,
   "metadata": {
    "scrolled": true
   },
   "outputs": [],
   "source": [
    "by_nationality\n"
   ]
  },
  {
   "cell_type": "code",
   "execution_count": null,
   "metadata": {
    "scrolled": true
   },
   "outputs": [],
   "source": [
    "population"
   ]
  },
  {
   "cell_type": "code",
   "execution_count": 7,
   "metadata": {},
   "outputs": [
    {
     "data": {
      "text/plain": [
       "numpy.int64"
      ]
     },
     "execution_count": 7,
     "metadata": {},
     "output_type": "execute_result"
    }
   ],
   "source": [
    "## I want to calculate the percentage of the population that are foreigners, so I created the variables for the population of each year\n",
    "\n",
    "population_tot=population.groupby(['Year']).sum().loc[:,'Number']\n",
    "population_2017=population_tot[2017]\n",
    "population_2016=population_tot[2016]\n",
    "population_2015=population_tot[2015]\n",
    "\n",
    "population_2015\n",
    "population_2016\n",
    "population_2017"
   ]
  },
  {
   "cell_type": "code",
   "execution_count": null,
   "metadata": {},
   "outputs": [],
   "source": [
    "by_nationality.dtypes # checked what data types exist in the dataframe"
   ]
  },
  {
   "cell_type": "code",
   "execution_count": null,
   "metadata": {},
   "outputs": [],
   "source": [
    "\"\"\"\"\n",
    "This dataframe includes Spanish people from outside Barcelona as immigrants in Barcelona.\n",
    "So, I created a dataframe for all immigrants that are not from Spain because they are qualitatively different in \n",
    "terms of rights, access to public services and other relevant stuff\n",
    "\"\"\"\"\n",
    "foreigners = by_nationality.loc[(by_nationality.Nationality != \"Spain\")]\n",
    "                              \n"
   ]
  },
  {
   "cell_type": "code",
   "execution_count": null,
   "metadata": {},
   "outputs": [],
   "source": [
    "foreigners\n"
   ]
  },
  {
   "cell_type": "code",
   "execution_count": null,
   "metadata": {},
   "outputs": [],
   "source": []
  },
  {
   "cell_type": "code",
   "execution_count": null,
   "metadata": {},
   "outputs": [],
   "source": [
    "by_nationality=by_nationality.rename(columns={'Neighborhood Name':'Neighborhood_Name',\n",
    "                               'District Name':'District_Name',\n",
    "                               'District Code':'District_Code',\n",
    "                               'Neighborhood Code':'Neighborhood_Code'\n",
    "                              }) ## I renamed some of the headers so they didn't have a whitespace"
   ]
  },
  {
   "cell_type": "code",
   "execution_count": null,
   "metadata": {},
   "outputs": [],
   "source": [
    "by_nationality.Year.unique() # checked which were the possible years"
   ]
  },
  {
   "cell_type": "code",
   "execution_count": null,
   "metadata": {},
   "outputs": [],
   "source": [
    "by_nationality.District_Name.unique() # checked which were the possible Districts"
   ]
  },
  {
   "cell_type": "code",
   "execution_count": null,
   "metadata": {},
   "outputs": [],
   "source": [
    "by_nationality.Neighborhood_Name.unique() # checked which were the possible Neighborhoods"
   ]
  },
  {
   "cell_type": "code",
   "execution_count": null,
   "metadata": {},
   "outputs": [],
   "source": [
    "by_nationality.Nationality.unique() # checked which were the possible nationalities "
   ]
  },
  {
   "cell_type": "markdown",
   "metadata": {},
   "source": [
    "What is the total number of immigrants by year?"
   ]
  },
  {
   "cell_type": "code",
   "execution_count": null,
   "metadata": {},
   "outputs": [],
   "source": [
    "by_nationality.groupby('Year').sum()['Number']"
   ]
  },
  {
   "cell_type": "markdown",
   "metadata": {},
   "source": [
    "What is the most frequent nationality of immigrants in Barcelona?"
   ]
  },
  {
   "cell_type": "code",
   "execution_count": null,
   "metadata": {},
   "outputs": [],
   "source": [
    "pd.DataFrame(by_nationality.groupby('Nationality').sum().loc['Number']).sort_values('Number', ascending=False)"
   ]
  },
  {
   "cell_type": "code",
   "execution_count": null,
   "metadata": {},
   "outputs": [],
   "source": [
    "pd.DataFrame(by_nationality.groupby(['District_Name','Nationality']).sum().loc['Ciutat Vella', 'Number']).sort_values('Number', ascending=False)"
   ]
  },
  {
   "cell_type": "code",
   "execution_count": null,
   "metadata": {},
   "outputs": [],
   "source": [
    "\n",
    "by_nationality.Nationality.value_counts()"
   ]
  },
  {
   "cell_type": "code",
   "execution_count": null,
   "metadata": {},
   "outputs": [],
   "source": [
    "by_nationality.groupby(\"Year\").sum()"
   ]
  },
  {
   "cell_type": "code",
   "execution_count": null,
   "metadata": {},
   "outputs": [],
   "source": [
    "#by_nationality.groupby([\"Year\",\"District_Name\"]).sum() ## if you reverse the order you get the inverse order of columns\n",
    "by_nationality.groupby([\"District_Name\",\"Year\"]).mean()\n",
    "by_nationality.groupby([\"District_Name\",\"Year\"]).mean().loc[(\"Ciutat Vella\",2015)]"
   ]
  },
  {
   "cell_type": "code",
   "execution_count": null,
   "metadata": {},
   "outputs": [],
   "source": []
  }
 ],
 "metadata": {
  "kernelspec": {
   "display_name": "Python 3",
   "language": "python",
   "name": "python3"
  },
  "language_info": {
   "codemirror_mode": {
    "name": "ipython",
    "version": 3
   },
   "file_extension": ".py",
   "mimetype": "text/x-python",
   "name": "python",
   "nbconvert_exporter": "python",
   "pygments_lexer": "ipython3",
   "version": "3.6.4"
  }
 },
 "nbformat": 4,
 "nbformat_minor": 2
}
