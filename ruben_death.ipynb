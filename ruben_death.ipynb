{
 "nbformat": 4,
 "nbformat_minor": 2,
 "metadata": {
  "language_info": {
   "name": "python",
   "codemirror_mode": {
    "name": "ipython",
    "version": 3
   }
  },
  "orig_nbformat": 2,
  "file_extension": ".py",
  "mimetype": "text/x-python",
  "name": "python",
  "npconvert_exporter": "python",
  "pygments_lexer": "ipython3",
  "version": 3
 },
 "cells": [
  {
   "cell_type": "code",
   "execution_count": 1,
   "metadata": {},
   "outputs": [],
   "source": [
    "import pandas as  pd \n",
    "\n",
    "## we call the files necessary to answer the questions. In this case: death and population\n",
    "\n",
    "death = pd.read_csv('../Project-Week-2-Barcelona/datasets/3.-Population/deaths.csv')\n",
    "population = pd.read_csv('../Project-Week-2-Barcelona/datasets/3.-Population/population.csv')\n"
   ]
  },
  {
   "cell_type": "code",
   "execution_count": 53,
   "metadata": {},
   "outputs": [
    {
     "data": {
      "text/html": "<div>\n<style scoped>\n    .dataframe tbody tr th:only-of-type {\n        vertical-align: middle;\n    }\n\n    .dataframe tbody tr th {\n        vertical-align: top;\n    }\n\n    .dataframe thead th {\n        text-align: right;\n    }\n</style>\n<table border=\"1\" class=\"dataframe\">\n  <thead>\n    <tr style=\"text-align: right;\">\n      <th></th>\n      <th>Number</th>\n    </tr>\n    <tr>\n      <th>District.Name</th>\n      <th></th>\n    </tr>\n  </thead>\n  <tbody>\n    <tr>\n      <th>Eixample</th>\n      <td>2660</td>\n    </tr>\n    <tr>\n      <th>Sant Martí</th>\n      <td>2017</td>\n    </tr>\n    <tr>\n      <th>Horta-Guinardó</th>\n      <td>1841</td>\n    </tr>\n    <tr>\n      <th>Nou Barris</th>\n      <td>1622</td>\n    </tr>\n    <tr>\n      <th>Sants-Montjuïc</th>\n      <td>1603</td>\n    </tr>\n    <tr>\n      <th>Sarrià-Sant Gervasi</th>\n      <td>1393</td>\n    </tr>\n    <tr>\n      <th>Sant Andreu</th>\n      <td>1288</td>\n    </tr>\n    <tr>\n      <th>Gràcia</th>\n      <td>1205</td>\n    </tr>\n    <tr>\n      <th>Ciutat Vella</th>\n      <td>792</td>\n    </tr>\n    <tr>\n      <th>Les Corts</th>\n      <td>762</td>\n    </tr>\n  </tbody>\n</table>\n</div>",
      "text/plain": "                     Number\nDistrict.Name              \nEixample               2660\nSant Martí             2017\nHorta-Guinardó         1841\nNou Barris             1622\nSants-Montjuïc         1603\nSarrià-Sant Gervasi    1393\nSant Andreu            1288\nGràcia                 1205\nCiutat Vella            792\nLes Corts               762"
     },
     "execution_count": 53,
     "metadata": {},
     "output_type": "execute_result"
    }
   ],
   "source": [
    "    ###############HOW MANY PEOPLE DIED IN DIFFERENT DISTRICTS OF BARCELONA? AND IN DIFFERENT YEARS?########################\n",
    "\n",
    "\n",
    "\n",
    "    ##see the first rows of the file.csv\n",
    "death.head() \n",
    "\n",
    "########GLOBAL VISON ABOUT DEATH PEOPLE BY YEAR, DISTRICT AND AGE sorted by # of dead people\n",
    "deaths_cleaning = death.groupby(['Year','District.Name','Age']).sum().loc[:,['Number']] \n",
    "death_summary = deaths_cleaning.groupby(level=[0,1], group_keys=False).apply(lambda group: group.sort_values('Number', ascending=False))\n",
    "death_summary\n",
    "\n",
    "#######Declaration to see how many people died in XXXX, grouped by the name of District and the age of people (indexes) and showing as data the #######of dead people.\n",
    "deaths_2016 = death.loc[(death.Year == 2016)].groupby(['District.Name']).sum().loc[:,['Number']]  \n",
    "deaths_2016.sort_values('Number', ascending = False)\n"
   ]
  },
  {
   "cell_type": "code",
   "execution_count": 51,
   "metadata": {},
   "outputs": [
    {
     "data": {
      "text/html": "<div>\n<style scoped>\n    .dataframe tbody tr th:only-of-type {\n        vertical-align: middle;\n    }\n\n    .dataframe tbody tr th {\n        vertical-align: top;\n    }\n\n    .dataframe thead th {\n        text-align: right;\n    }\n</style>\n<table border=\"1\" class=\"dataframe\">\n  <thead>\n    <tr style=\"text-align: right;\">\n      <th></th>\n      <th>Number</th>\n    </tr>\n    <tr>\n      <th>District.Name</th>\n      <th></th>\n    </tr>\n  </thead>\n  <tbody>\n    <tr>\n      <th>Eixample</th>\n      <td>264305</td>\n    </tr>\n    <tr>\n      <th>Sant Martí</th>\n      <td>233928</td>\n    </tr>\n    <tr>\n      <th>Sants-Montjuïc</th>\n      <td>180977</td>\n    </tr>\n    <tr>\n      <th>Horta-Guinardó</th>\n      <td>167268</td>\n    </tr>\n    <tr>\n      <th>Nou Barris</th>\n      <td>164881</td>\n    </tr>\n    <tr>\n      <th>Sarrià-Sant Gervasi</th>\n      <td>148026</td>\n    </tr>\n    <tr>\n      <th>Sant Andreu</th>\n      <td>146731</td>\n    </tr>\n    <tr>\n      <th>Gràcia</th>\n      <td>120918</td>\n    </tr>\n    <tr>\n      <th>Ciutat Vella</th>\n      <td>100070</td>\n    </tr>\n    <tr>\n      <th>Les Corts</th>\n      <td>81642</td>\n    </tr>\n  </tbody>\n</table>\n</div>",
      "text/plain": "                     Number\nDistrict.Name              \nEixample             264305\nSant Martí           233928\nSants-Montjuïc       180977\nHorta-Guinardó       167268\nNou Barris           164881\nSarrià-Sant Gervasi  148026\nSant Andreu          146731\nGràcia               120918\nCiutat Vella         100070\nLes Corts             81642"
     },
     "execution_count": 51,
     "metadata": {},
     "output_type": "execute_result"
    }
   ],
   "source": [
    "    ###############HOW MANY PEOPLE LIVE IN DIFFERENT DISTRICTS OF BARCELONA? AND IN DIFFERENT YEARS?########################\n",
    "\n",
    "\n",
    "\n",
    "#######How many people live currently in 2017?\n",
    "population.head()   \n",
    "\n",
    "\n",
    "########GLOBAL VISON ABOUT POPULATION  BY YEAR, DISTRICT AND AGE sorted by # people\n",
    "population_cleaning = population.groupby(['Year','District.Name','Age']).sum().loc[:,['Number']] \n",
    "population_summary = population_cleaning.groupby(level=[0,1], group_keys=False).apply(lambda group: group.sort_values('Number', ascending=False))\n",
    "population_summary\n",
    "\n",
    "\n",
    "\n",
    "\n",
    "#######Declaration to see how many people live in XXXX, grouped by the name of District and the age of people (indexes) and showing as data the #######of dead people.\n",
    "population_2016 = population.loc[(population.Year == 2016)].groupby(['District.Name']).sum().loc[:,['Number']]  \n",
    "population_2016.sort_values('Number', ascending = False)\n"
   ]
  },
  {
   "cell_type": "code",
   "execution_count": 57,
   "metadata": {},
   "outputs": [
    {
     "data": {
      "text/html": "<div>\n<style scoped>\n    .dataframe tbody tr th:only-of-type {\n        vertical-align: middle;\n    }\n\n    .dataframe tbody tr th {\n        vertical-align: top;\n    }\n\n    .dataframe thead th {\n        text-align: right;\n    }\n</style>\n<table border=\"1\" class=\"dataframe\">\n  <thead>\n    <tr style=\"text-align: right;\">\n      <th></th>\n      <th>Number</th>\n    </tr>\n    <tr>\n      <th>District.Name</th>\n      <th></th>\n    </tr>\n  </thead>\n  <tbody>\n    <tr>\n      <th>Ciutat Vella</th>\n      <td>0.829047</td>\n    </tr>\n    <tr>\n      <th>Eixample</th>\n      <td>2.726864</td>\n    </tr>\n    <tr>\n      <th>Gràcia</th>\n      <td>1.227588</td>\n    </tr>\n    <tr>\n      <th>Horta-Guinardó</th>\n      <td>1.795935</td>\n    </tr>\n    <tr>\n      <th>Les Corts</th>\n      <td>0.768117</td>\n    </tr>\n    <tr>\n      <th>Nou Barris</th>\n      <td>1.677071</td>\n    </tr>\n    <tr>\n      <th>Sant Andreu</th>\n      <td>1.288518</td>\n    </tr>\n    <tr>\n      <th>Sant Martí</th>\n      <td>2.059631</td>\n    </tr>\n    <tr>\n      <th>Sants-Montjuïc</th>\n      <td>1.688059</td>\n    </tr>\n    <tr>\n      <th>Sarrià-Sant Gervasi</th>\n      <td>1.399391</td>\n    </tr>\n  </tbody>\n</table>\n</div>",
      "text/plain": "                       Number\nDistrict.Name                \nCiutat Vella         0.829047\nEixample             2.726864\nGràcia               1.227588\nHorta-Guinardó       1.795935\nLes Corts            0.768117\nNou Barris           1.677071\nSant Andreu          1.288518\nSant Martí           2.059631\nSants-Montjuïc       1.688059\nSarrià-Sant Gervasi  1.399391"
     },
     "execution_count": 57,
     "metadata": {},
     "output_type": "execute_result"
    }
   ],
   "source": [
    "###############WHAT IS THE DEATH RATIO IN BARCELONA FOR DIFFERENT DISTRICTS OF BARCELONA?########################\n",
    "\n",
    "#######The death_ratio is  for different YEARS, different District and for different ages range.\n",
    "\n",
    "ratio_death = deaths_cleaning.mul(1000).div(population_cleaning.iloc[0])\n",
    "ratio_death\n",
    "\n",
    "#######Declaration to see how much is the death ratio for each year ('15,'16, '17) in different districts in Barcelona, grouping by ages. \n",
    "\n",
    "ratio_death_2015 = deaths_2015.mul(100).div(population_2015.iloc[0])\n",
    "ratio_death_2015"
   ]
  }
 ]
}