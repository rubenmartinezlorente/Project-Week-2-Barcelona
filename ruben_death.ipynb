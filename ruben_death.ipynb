{
 "nbformat": 4,
 "nbformat_minor": 2,
 "metadata": {
  "language_info": {
   "name": "python",
   "codemirror_mode": {
    "name": "ipython",
    "version": 3
   }
  },
  "orig_nbformat": 2,
  "file_extension": ".py",
  "mimetype": "text/x-python",
  "name": "python",
  "npconvert_exporter": "python",
  "pygments_lexer": "ipython3",
  "version": 3
 },
 "cells": [
  {
   "cell_type": "code",
   "execution_count": 1,
   "metadata": {},
   "outputs": [],
   "source": [
    "import pandas as  pd \n",
    "\n",
    "## we call the files necessary to answer the questions. In this case: death and population\n",
    "\n",
    "death = pd.read_csv('../Project-Week-2-Barcelona/datasets/3.-Population/deaths.csv')\n",
    "population = pd.read_csv('../Project-Week-2-Barcelona/datasets/3.-Population/population.csv')\n"
   ]
  },
  {
   "cell_type": "markdown",
   "execution_count": 32,
   "metadata": {},
   "outputs": [
    {
     "data": {
      "text/html": "<div>\n<style scoped>\n    .dataframe tbody tr th:only-of-type {\n        vertical-align: middle;\n    }\n\n    .dataframe tbody tr th {\n        vertical-align: top;\n    }\n\n    .dataframe thead th {\n        text-align: right;\n    }\n</style>\n<table border=\"1\" class=\"dataframe\">\n  <thead>\n    <tr style=\"text-align: right;\">\n      <th></th>\n      <th>Number</th>\n    </tr>\n    <tr>\n      <th>District.Name</th>\n      <th></th>\n    </tr>\n  </thead>\n  <tbody>\n    <tr>\n      <th>Eixample</th>\n      <td>2738</td>\n    </tr>\n    <tr>\n      <th>Sant Martí</th>\n      <td>2069</td>\n    </tr>\n    <tr>\n      <th>Horta-Guinardó</th>\n      <td>1806</td>\n    </tr>\n    <tr>\n      <th>Sants-Montjuïc</th>\n      <td>1760</td>\n    </tr>\n    <tr>\n      <th>Nou Barris</th>\n      <td>1749</td>\n    </tr>\n    <tr>\n      <th>Sarrià-Sant Gervasi</th>\n      <td>1362</td>\n    </tr>\n    <tr>\n      <th>Sant Andreu</th>\n      <td>1326</td>\n    </tr>\n    <tr>\n      <th>Gràcia</th>\n      <td>1176</td>\n    </tr>\n    <tr>\n      <th>Ciutat Vella</th>\n      <td>813</td>\n    </tr>\n    <tr>\n      <th>Les Corts</th>\n      <td>765</td>\n    </tr>\n  </tbody>\n</table>\n</div>",
      "text/plain": "                     Number\nDistrict.Name              \nEixample               2738\nSant Martí             2069\nHorta-Guinardó         1806\nSants-Montjuïc         1760\nNou Barris             1749\nSarrià-Sant Gervasi    1362\nSant Andreu            1326\nGràcia                 1176\nCiutat Vella            813\nLes Corts               765"
     },
     "execution_count": 32,
     "metadata": {},
     "output_type": "execute_result"
    }
   ],
   "source": [
    "    ###############HOW MANY PEOPLE DIED IN DIFFERENT DISTRICTS OF BARCELONA? AND IN DIFFERENT YEARS?########################\n",
    "\n",
    "\n",
    "\n",
    "    ##see the first rows of the file.csv\n",
    "death.head() \n",
    "\n",
    "########GLOBAL VISON ABOUT DEATH PEOPLE BY YEAR, DISTRICT AND AGE sorted by # of dead people\n",
    "deaths_cleaning = death.groupby(['Year','District.Name','Age']).sum().loc[:,['Number']] \n",
    "death_summary = deaths_cleaning.groupby(level=[0,1], group_keys=False).apply(lambda group: group.sort_values('Number', ascending=False))\n",
    "death_summary\n",
    "\n",
    "#######Declaration to see how many people died in XXXX, grouped by the name of District and the age of people (indexes) and showing as data the #######of dead people.\n",
    "deaths_2017 = death.loc[(death.Year == 2017)].groupby(['District.Name']).sum().loc[:,['Number']]  \n",
    "deaths_2017.sort_values('Number', ascending = False)\n"
   ]
  },
  {
   "cell_type": "code",
   "execution_count": 38,
   "metadata": {},
   "outputs": [
    {
     "data": {
      "text/html": "<div>\n<style scoped>\n    .dataframe tbody tr th:only-of-type {\n        vertical-align: middle;\n    }\n\n    .dataframe tbody tr th {\n        vertical-align: top;\n    }\n\n    .dataframe thead th {\n        text-align: right;\n    }\n</style>\n<table border=\"1\" class=\"dataframe\">\n  <thead>\n    <tr style=\"text-align: right;\">\n      <th></th>\n      <th>Number</th>\n    </tr>\n    <tr>\n      <th>District.Name</th>\n      <th></th>\n    </tr>\n  </thead>\n  <tbody>\n    <tr>\n      <th>Eixample</th>\n      <td>266416</td>\n    </tr>\n    <tr>\n      <th>Sant Martí</th>\n      <td>235513</td>\n    </tr>\n    <tr>\n      <th>Sants-Montjuïc</th>\n      <td>181910</td>\n    </tr>\n    <tr>\n      <th>Horta-Guinardó</th>\n      <td>168751</td>\n    </tr>\n    <tr>\n      <th>Nou Barris</th>\n      <td>166579</td>\n    </tr>\n    <tr>\n      <th>Sarrià-Sant Gervasi</th>\n      <td>149279</td>\n    </tr>\n    <tr>\n      <th>Sant Andreu</th>\n      <td>147594</td>\n    </tr>\n    <tr>\n      <th>Gràcia</th>\n      <td>121347</td>\n    </tr>\n    <tr>\n      <th>Ciutat Vella</th>\n      <td>101387</td>\n    </tr>\n    <tr>\n      <th>Les Corts</th>\n      <td>82033</td>\n    </tr>\n  </tbody>\n</table>\n</div>",
      "text/plain": "                     Number\nDistrict.Name              \nEixample             266416\nSant Martí           235513\nSants-Montjuïc       181910\nHorta-Guinardó       168751\nNou Barris           166579\nSarrià-Sant Gervasi  149279\nSant Andreu          147594\nGràcia               121347\nCiutat Vella         101387\nLes Corts             82033"
     },
     "execution_count": 38,
     "metadata": {},
     "output_type": "execute_result"
    }
   ],
   "source": [
    "    ###############HOW MANY PEOPLE LIVE IN DIFFERENT DISTRICTS OF BARCELONA? AND IN DIFFERENT YEARS?########################\n",
    "\n",
    "\n",
    "\n",
    "#######How many people live currently in 2017?\n",
    "population.head()   \n",
    "\n",
    "\n",
    "########GLOBAL VISON ABOUT POPULATION  BY YEAR, DISTRICT AND AGE sorted by # people\n",
    "population_cleaning = population.groupby(['Year','District.Name','Age']).sum().loc[:,['Number']] \n",
    "population_summary = population_cleaning.groupby(level=[0,1], group_keys=False).apply(lambda group: group.sort_values('Number', ascending=False))\n",
    "population_summary\n",
    "\n",
    "\n",
    "\n",
    "\n",
    "#######Declaration to see how many people live in XXXX, grouped by the name of District and the age of people (indexes) and showing as data the #######of dead people.\n",
    "population_2017 = population.loc[(population.Year == 2017)].groupby(['District.Name']).sum().loc[:,['Number']]  \n",
    "population_2017.sort_values('Number', ascending = False)\n"
   ]
  },
  {
   "cell_type": "code",
   "execution_count": 48,
   "metadata": {},
   "outputs": [
    {
     "data": {
      "text/html": "<div>\n<style scoped>\n    .dataframe tbody tr th:only-of-type {\n        vertical-align: middle;\n    }\n\n    .dataframe tbody tr th {\n        vertical-align: top;\n    }\n\n    .dataframe thead th {\n        text-align: right;\n    }\n</style>\n<table border=\"1\" class=\"dataframe\">\n  <thead>\n    <tr style=\"text-align: right;\">\n      <th></th>\n      <th>Number</th>\n    </tr>\n    <tr>\n      <th>District.Name</th>\n      <th></th>\n    </tr>\n  </thead>\n  <tbody>\n    <tr>\n      <th>Ciutat Vella</th>\n      <td>830</td>\n    </tr>\n    <tr>\n      <th>Eixample</th>\n      <td>2730</td>\n    </tr>\n    <tr>\n      <th>Gràcia</th>\n      <td>1229</td>\n    </tr>\n    <tr>\n      <th>Horta-Guinardó</th>\n      <td>1798</td>\n    </tr>\n    <tr>\n      <th>Les Corts</th>\n      <td>769</td>\n    </tr>\n    <tr>\n      <th>Nou Barris</th>\n      <td>1679</td>\n    </tr>\n    <tr>\n      <th>Sant Andreu</th>\n      <td>1290</td>\n    </tr>\n    <tr>\n      <th>Sant Martí</th>\n      <td>2062</td>\n    </tr>\n    <tr>\n      <th>Sants-Montjuïc</th>\n      <td>1690</td>\n    </tr>\n    <tr>\n      <th>Sarrià-Sant Gervasi</th>\n      <td>1401</td>\n    </tr>\n  </tbody>\n</table>\n</div>",
      "text/plain": "                     Number\nDistrict.Name              \nCiutat Vella            830\nEixample               2730\nGràcia                 1229\nHorta-Guinardó         1798\nLes Corts               769\nNou Barris             1679\nSant Andreu            1290\nSant Martí             2062\nSants-Montjuïc         1690\nSarrià-Sant Gervasi    1401"
     },
     "execution_count": 48,
     "metadata": {},
     "output_type": "execute_result"
    }
   ],
   "source": [
    "###############WHAT IS THE DEATH RATIO IN BARCELONA FOR DIFFERENT DISTRICTS OF BARCELONA?########################\n",
    "\n",
    "#######The death_ratio is  for different YEARS, different District and for different ages range.\n",
    "\n",
    "ratio_death = deaths_cleaning.mul(1000).div(population_cleaning.iloc[0])\n",
    "ratio_death\n",
    "\n",
    "#######Declaration to see how much is the death ratio for each year ('15,'16, '17) in different districts in Barcelona, grouping by ages. \n",
    "\n",
    "ratio_death__2016 = deaths_2016.mul(100).div(population_2016.iloc[0])\n",
    "ratio_death_2016"
   ]
  },
  {
   "cell_type": "code",
   "execution_count": 16,
   "metadata": {},
   "outputs": [
    {
     "data": {
      "text/html": "<div>\n<style scoped>\n    .dataframe tbody tr th:only-of-type {\n        vertical-align: middle;\n    }\n\n    .dataframe tbody tr th {\n        vertical-align: top;\n    }\n\n    .dataframe thead th {\n        text-align: right;\n    }\n</style>\n<table border=\"1\" class=\"dataframe\">\n  <thead>\n    <tr style=\"text-align: right;\">\n      <th></th>\n      <th>Number</th>\n    </tr>\n    <tr>\n      <th>District.Name</th>\n      <th></th>\n    </tr>\n  </thead>\n  <tbody>\n    <tr>\n      <th>Eixample</th>\n      <td>2738</td>\n    </tr>\n    <tr>\n      <th>Sant Martí</th>\n      <td>2069</td>\n    </tr>\n    <tr>\n      <th>Horta-Guinardó</th>\n      <td>1806</td>\n    </tr>\n    <tr>\n      <th>Sants-Montjuïc</th>\n      <td>1760</td>\n    </tr>\n    <tr>\n      <th>Nou Barris</th>\n      <td>1749</td>\n    </tr>\n    <tr>\n      <th>Sarrià-Sant Gervasi</th>\n      <td>1362</td>\n    </tr>\n    <tr>\n      <th>Sant Andreu</th>\n      <td>1326</td>\n    </tr>\n    <tr>\n      <th>Gràcia</th>\n      <td>1176</td>\n    </tr>\n    <tr>\n      <th>Ciutat Vella</th>\n      <td>813</td>\n    </tr>\n    <tr>\n      <th>Les Corts</th>\n      <td>765</td>\n    </tr>\n  </tbody>\n</table>\n</div>",
      "text/plain": "                     Number\nDistrict.Name              \nEixample               2738\nSant Martí             2069\nHorta-Guinardó         1806\nSants-Montjuïc         1760\nNou Barris             1749\nSarrià-Sant Gervasi    1362\nSant Andreu            1326\nGràcia                 1176\nCiutat Vella            813\nLes Corts               765"
     },
     "execution_count": 16,
     "metadata": {},
     "output_type": "execute_result"
    }
   ],
   "source": [
    "            ## What is the death rate by district.\n",
    "    ###How many people died in 2017?\n",
    "\n",
    "death.head()                                            ##see the first rows of the file.csv\n",
    "deaths_2017 = death.loc[(death.Year == 2017)].groupby(['District.Name']).sum().loc[:,['Number']]  \n",
    "deaths_2017.sort_values('Number', ascending = False)\n",
    "\n",
    "            #How many people live currently in 2017?\n",
    "#population.head()                                            ##see the first rows of the file.csv\n",
    "#population_2017 = population.loc[(population.Year == 2017)].groupby(['District.Name']).sum().loc[:,['Number']]  \n",
    "#population_2017\n",
    "\n",
    "\n",
    "            #The death_ratio is\n",
    "#ratio_death_districts = deaths_2017.mul(100).div(population_2017.iloc[0])\n",
    "#ratio_death_districts.reset_index().describe(include='all')\n",
    "#ratio_death_districts.sort_values('Number', ascending = False)\n",
    "#ratio_death_districts\n"
   ]
  },
  {
   "cell_type": "markdown",
   "execution_count": 260,
   "metadata": {},
   "outputs": [
    {
     "data": {
      "text/html": "<div>\n<style scoped>\n    .dataframe tbody tr th:only-of-type {\n        vertical-align: middle;\n    }\n\n    .dataframe tbody tr th {\n        vertical-align: top;\n    }\n\n    .dataframe thead th {\n        text-align: right;\n    }\n</style>\n<table border=\"1\" class=\"dataframe\">\n  <thead>\n    <tr style=\"text-align: right;\">\n      <th></th>\n      <th>Number</th>\n    </tr>\n    <tr>\n      <th>Age</th>\n      <th></th>\n    </tr>\n  </thead>\n  <tbody>\n    <tr>\n      <th>85-89</th>\n      <td>5.005702</td>\n    </tr>\n    <tr>\n      <th>90-94</th>\n      <td>4.403380</td>\n    </tr>\n    <tr>\n      <th>80-84</th>\n      <td>3.704570</td>\n    </tr>\n    <tr>\n      <th>75-79</th>\n      <td>2.030642</td>\n    </tr>\n    <tr>\n      <th>95-99</th>\n      <td>1.976550</td>\n    </tr>\n    <tr>\n      <th>70-74</th>\n      <td>1.581825</td>\n    </tr>\n    <tr>\n      <th>65-69</th>\n      <td>1.173942</td>\n    </tr>\n    <tr>\n      <th>60-64</th>\n      <td>0.856700</td>\n    </tr>\n    <tr>\n      <th>55-59</th>\n      <td>0.616941</td>\n    </tr>\n    <tr>\n      <th>50-54</th>\n      <td>0.415193</td>\n    </tr>\n    <tr>\n      <th>&gt;=100</th>\n      <td>0.397649</td>\n    </tr>\n    <tr>\n      <th>45-49</th>\n      <td>0.225140</td>\n    </tr>\n    <tr>\n      <th>40-44</th>\n      <td>0.144733</td>\n    </tr>\n    <tr>\n      <th>35-39</th>\n      <td>0.076021</td>\n    </tr>\n    <tr>\n      <th>30-34</th>\n      <td>0.035087</td>\n    </tr>\n    <tr>\n      <th>0-4</th>\n      <td>0.033625</td>\n    </tr>\n    <tr>\n      <th>25-29</th>\n      <td>0.024853</td>\n    </tr>\n    <tr>\n      <th>20-24</th>\n      <td>0.017543</td>\n    </tr>\n    <tr>\n      <th>15-19</th>\n      <td>0.014619</td>\n    </tr>\n    <tr>\n      <th>10-14</th>\n      <td>0.010234</td>\n    </tr>\n    <tr>\n      <th>5-9</th>\n      <td>0.008772</td>\n    </tr>\n  </tbody>\n</table>\n</div>",
      "text/plain": "         Number\nAge            \n85-89  5.005702\n90-94  4.403380\n80-84  3.704570\n75-79  2.030642\n95-99  1.976550\n70-74  1.581825\n65-69  1.173942\n60-64  0.856700\n55-59  0.616941\n50-54  0.415193\n>=100  0.397649\n45-49  0.225140\n40-44  0.144733\n35-39  0.076021\n30-34  0.035087\n0-4    0.033625\n25-29  0.024853\n20-24  0.017543\n15-19  0.014619\n10-14  0.010234\n5-9    0.008772"
     },
     "execution_count": 260,
     "metadata": {},
     "output_type": "execute_result"
    }
   ],
   "source": [
    "            ## What is the death rate by age.\n",
    "    ###How many people died in 2017?\n",
    "\n",
    "death.head()                                            ##see the first rows of the file.csv\n",
    "deaths_2017 = death.loc[(death.Year == 2017)].groupby(['Age']).sum().loc[:,['Number']]  \n",
    "deaths_2017\n",
    "\n",
    "\n",
    "            #How many people live currently in 2017?\n",
    "population.head()                                            ##see the first rows of the file.csv\n",
    "population_2017 = population.loc[(population.Year == 2017)].groupby(['Age']).sum().loc[:,['Number']]  \n",
    "population_2017\n",
    "\n",
    "\n",
    "            #The death_ratio is\n",
    "ratio_death_age = deaths_2017.mul(100).div(population_2017.iloc[0])\n",
    "ratio_death_age.sort_values('Number', ascending = False)\n",
    "#ratio_death_age.describe()\n"
   ]
  }
 ]
}