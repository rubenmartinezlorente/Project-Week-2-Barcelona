{
 "nbformat": 4,
 "nbformat_minor": 2,
 "metadata": {
  "language_info": {
   "name": "python",
   "codemirror_mode": {
    "name": "ipython",
    "version": 3
   }
  },
  "orig_nbformat": 2,
  "file_extension": ".py",
  "mimetype": "text/x-python",
  "name": "python",
  "npconvert_exporter": "python",
  "pygments_lexer": "ipython3",
  "version": 3
 },
 "cells": [
  {
   "cell_type": "code",
   "execution_count": 100,
   "metadata": {},
   "outputs": [
    {
     "data": {
      "text/html": "<div>\n<style scoped>\n    .dataframe tbody tr th:only-of-type {\n        vertical-align: middle;\n    }\n\n    .dataframe tbody tr th {\n        vertical-align: top;\n    }\n\n    .dataframe thead th {\n        text-align: right;\n    }\n</style>\n<table border=\"1\" class=\"dataframe\">\n  <thead>\n    <tr style=\"text-align: right;\">\n      <th></th>\n      <th>Year</th>\n      <th>District Code</th>\n      <th>District Name</th>\n      <th>Neighborhood Code</th>\n      <th>Neighborhood Name</th>\n      <th>Gender</th>\n      <th>Number</th>\n    </tr>\n  </thead>\n  <tbody>\n    <tr>\n      <th>0</th>\n      <td>2017</td>\n      <td>1</td>\n      <td>Ciutat Vella</td>\n      <td>1</td>\n      <td>el Raval</td>\n      <td>Boys</td>\n      <td>283</td>\n    </tr>\n    <tr>\n      <th>1</th>\n      <td>2017</td>\n      <td>1</td>\n      <td>Ciutat Vella</td>\n      <td>2</td>\n      <td>el Barri Gòtic</td>\n      <td>Boys</td>\n      <td>56</td>\n    </tr>\n    <tr>\n      <th>2</th>\n      <td>2017</td>\n      <td>1</td>\n      <td>Ciutat Vella</td>\n      <td>3</td>\n      <td>la Barceloneta</td>\n      <td>Boys</td>\n      <td>51</td>\n    </tr>\n    <tr>\n      <th>3</th>\n      <td>2017</td>\n      <td>1</td>\n      <td>Ciutat Vella</td>\n      <td>4</td>\n      <td>Sant Pere, Santa Caterina i la Ribera</td>\n      <td>Boys</td>\n      <td>90</td>\n    </tr>\n    <tr>\n      <th>4</th>\n      <td>2017</td>\n      <td>2</td>\n      <td>Eixample</td>\n      <td>5</td>\n      <td>el Fort Pienc</td>\n      <td>Boys</td>\n      <td>117</td>\n    </tr>\n  </tbody>\n</table>\n</div>",
      "text/plain": "   Year  District Code District Name  Neighborhood Code  \\\n0  2017              1  Ciutat Vella                  1   \n1  2017              1  Ciutat Vella                  2   \n2  2017              1  Ciutat Vella                  3   \n3  2017              1  Ciutat Vella                  4   \n4  2017              2      Eixample                  5   \n\n                       Neighborhood Name Gender  Number  \n0                               el Raval   Boys     283  \n1                         el Barri Gòtic   Boys      56  \n2                         la Barceloneta   Boys      51  \n3  Sant Pere, Santa Caterina i la Ribera   Boys      90  \n4                          el Fort Pienc   Boys     117  "
     },
     "execution_count": 100,
     "metadata": {},
     "output_type": "execute_result"
    }
   ],
   "source": [
    "import pandas as  pd \n",
    "\n",
    "## we call the files necessary to answer the questions. In this case: death and population\n",
    "\n",
    "death = pd.read_csv('../Project-Week-2-Barcelona/datasets/3.-Population/deaths.csv')\n",
    "population = pd.read_csv('../Project-Week-2-Barcelona/datasets/3.-Population/population.csv')\n",
    "birth = pd.read_csv('../Project-Week-2-Barcelona/datasets/3.-Population/births.csv')\n",
    "\n",
    "#######ADDITIONAL NOTE\n",
    "\n",
    "###to save the excel file\n",
    "####ratio_death_2017.to_excel(r'../Project-Week-2-Barcelona/your-project/images/ratio_death_2017.xlsx')\n",
    "birth.head()"
   ]
  },
  {
   "cell_type": "code",
   "execution_count": 63,
   "metadata": {},
   "outputs": [
    {
     "data": {
      "text/html": "<div>\n<style scoped>\n    .dataframe tbody tr th:only-of-type {\n        vertical-align: middle;\n    }\n\n    .dataframe tbody tr th {\n        vertical-align: top;\n    }\n\n    .dataframe thead th {\n        text-align: right;\n    }\n</style>\n<table border=\"1\" class=\"dataframe\">\n  <thead>\n    <tr style=\"text-align: right;\">\n      <th></th>\n      <th>Number</th>\n    </tr>\n    <tr>\n      <th>District.Name</th>\n      <th></th>\n    </tr>\n  </thead>\n  <tbody>\n    <tr>\n      <th>Eixample</th>\n      <td>266416</td>\n    </tr>\n    <tr>\n      <th>Sant Martí</th>\n      <td>235513</td>\n    </tr>\n    <tr>\n      <th>Sants-Montjuïc</th>\n      <td>181910</td>\n    </tr>\n    <tr>\n      <th>Horta-Guinardó</th>\n      <td>168751</td>\n    </tr>\n    <tr>\n      <th>Nou Barris</th>\n      <td>166579</td>\n    </tr>\n    <tr>\n      <th>Sarrià-Sant Gervasi</th>\n      <td>149279</td>\n    </tr>\n    <tr>\n      <th>Sant Andreu</th>\n      <td>147594</td>\n    </tr>\n    <tr>\n      <th>Gràcia</th>\n      <td>121347</td>\n    </tr>\n    <tr>\n      <th>Ciutat Vella</th>\n      <td>101387</td>\n    </tr>\n    <tr>\n      <th>Les Corts</th>\n      <td>82033</td>\n    </tr>\n  </tbody>\n</table>\n</div>",
      "text/plain": "                     Number\nDistrict.Name              \nEixample             266416\nSant Martí           235513\nSants-Montjuïc       181910\nHorta-Guinardó       168751\nNou Barris           166579\nSarrià-Sant Gervasi  149279\nSant Andreu          147594\nGràcia               121347\nCiutat Vella         101387\nLes Corts             82033"
     },
     "execution_count": 63,
     "metadata": {},
     "output_type": "execute_result"
    }
   ],
   "source": [
    "    ###############HOW MANY PEOPLE LIVE IN DIFFERENT DISTRICTS OF BARCELONA? AND IN DIFFERENT YEARS?########################\n",
    "\n",
    "\n",
    "\n",
    "#######How many people live currently in 2017?\n",
    "population.head()   \n",
    "\n",
    "\n",
    "########GLOBAL VISON ABOUT POPULATION  BY YEAR, DISTRICT AND AGE sorted by # people\n",
    "population_cleaning = population.groupby(['Year','District.Name','Age']).sum().loc[:,['Number']] \n",
    "population_summary = population_cleaning.groupby(level=[0,1], group_keys=False).apply(lambda group: group.sort_values('Number', ascending=False))\n",
    "population_summary\n",
    "\n",
    "\n",
    "\n",
    "\n",
    "#######Declaration to see how many people live in XXXX, grouped by the name of District and the age of people (indexes) and showing as data the #######of dead people.\n",
    "population_2017 = population.loc[(population.Year == 2017)].groupby(['District.Name']).sum().loc[:,['Number']]  \n",
    "population_2017.sort_values('Number', ascending = False)\n"
   ]
  },
  {
   "cell_type": "code",
   "execution_count": 85,
   "metadata": {},
   "outputs": [
    {
     "data": {
      "text/html": "<div>\n<style scoped>\n    .dataframe tbody tr th:only-of-type {\n        vertical-align: middle;\n    }\n\n    .dataframe tbody tr th {\n        vertical-align: top;\n    }\n\n    .dataframe thead th {\n        text-align: right;\n    }\n</style>\n<table border=\"1\" class=\"dataframe\">\n  <thead>\n    <tr style=\"text-align: right;\">\n      <th></th>\n      <th>Number</th>\n    </tr>\n    <tr>\n      <th>District.Name</th>\n      <th></th>\n    </tr>\n  </thead>\n  <tbody>\n    <tr>\n      <th>Ciutat Vella</th>\n      <td>8.018780</td>\n    </tr>\n    <tr>\n      <th>Eixample</th>\n      <td>10.277161</td>\n    </tr>\n    <tr>\n      <th>Gràcia</th>\n      <td>9.691216</td>\n    </tr>\n    <tr>\n      <th>Horta-Guinardó</th>\n      <td>10.702159</td>\n    </tr>\n    <tr>\n      <th>Les Corts</th>\n      <td>9.325515</td>\n    </tr>\n    <tr>\n      <th>Nou Barris</th>\n      <td>10.499523</td>\n    </tr>\n    <tr>\n      <th>Sant Andreu</th>\n      <td>8.984105</td>\n    </tr>\n    <tr>\n      <th>Sant Martí</th>\n      <td>8.785078</td>\n    </tr>\n    <tr>\n      <th>Sants-Montjuïc</th>\n      <td>9.675114</td>\n    </tr>\n    <tr>\n      <th>Sarrià-Sant Gervasi</th>\n      <td>9.123855</td>\n    </tr>\n  </tbody>\n</table>\n</div>",
      "text/plain": "                        Number\nDistrict.Name                 \nCiutat Vella          8.018780\nEixample             10.277161\nGràcia                9.691216\nHorta-Guinardó       10.702159\nLes Corts             9.325515\nNou Barris           10.499523\nSant Andreu           8.984105\nSant Martí            8.785078\nSants-Montjuïc        9.675114\nSarrià-Sant Gervasi   9.123855"
     },
     "execution_count": 85,
     "metadata": {},
     "output_type": "execute_result"
    }
   ],
   "source": [
    "ratio_death_2017"
   ]
  },
  {
   "cell_type": "code",
   "execution_count": 94,
   "metadata": {},
   "outputs": [],
   "source": [
    "###############WHAT IS THE DEATH RATIO IN BARCELONA FOR DIFFERENT DISTRICTS OF BARCELONA?########################\n",
    "\n",
    "#######The death_ratio is  for different YEARS, different District and for different ages range.\n",
    "\n",
    "ratio_death = deaths_cleaning.mul(1000).div(population_cleaning.iloc[0])\n",
    "ratio_death\n",
    "\n",
    "#######Declaration to see how much is the death ratio for each year ('15,'16, '17) in different districts in Barcelona, grouping by ages. \n",
    "\n",
    "ratio_death_2016 = deaths_2016.mul(1000).div(population_2016)\n",
    "ratio_death_2016.sort_values('Number', ascending = False)\n",
    "\n",
    "\n",
    "###to save the excel file\n",
    "####ratio_death_2017.to_excel(r'../Project-Week-2-Barcelona/your-project/images/ratio_death_2017.xlsx')"
   ]
  },
  {
   "cell_type": "code",
   "execution_count": null,
   "metadata": {},
   "outputs": [],
   "source": []
  }
 ]
}