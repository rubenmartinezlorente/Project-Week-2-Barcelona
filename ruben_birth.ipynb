{
 "nbformat": 4,
 "nbformat_minor": 2,
 "metadata": {
  "language_info": {
   "name": "python",
   "codemirror_mode": {
    "name": "ipython",
    "version": 3
   }
  },
  "orig_nbformat": 2,
  "file_extension": ".py",
  "mimetype": "text/x-python",
  "name": "python",
  "npconvert_exporter": "python",
  "pygments_lexer": "ipython3",
  "version": 3
 },
 "cells": [
  {
   "cell_type": "code",
   "execution_count": 1,
   "metadata": {},
   "outputs": [],
   "source": [
    "import pandas as  pd \n",
    "\n",
    "## we call the files necessary to answer the questions. In this case: birth and population\n",
    "\n",
    "\n",
    "birth = pd.read_csv('../Project-Week-2-Barcelona/datasets/3.-Population/births.csv')\n",
    "death = pd.read_csv('../Project-Week-2-Barcelona/datasets/3.-Population/deaths.csv')\n",
    "population = pd.read_csv('../Project-Week-2-Barcelona/datasets/3.-Population/population.csv')\n"
   ]
  },
  {
   "cell_type": "code",
   "execution_count": 2,
   "metadata": {},
   "outputs": [
    {
     "data": {
      "text/html": "<div>\n<style scoped>\n    .dataframe tbody tr th:only-of-type {\n        vertical-align: middle;\n    }\n\n    .dataframe tbody tr th {\n        vertical-align: top;\n    }\n\n    .dataframe thead th {\n        text-align: right;\n    }\n</style>\n<table border=\"1\" class=\"dataframe\">\n  <thead>\n    <tr style=\"text-align: right;\">\n      <th></th>\n      <th>Number</th>\n    </tr>\n    <tr>\n      <th>District Name</th>\n      <th></th>\n    </tr>\n  </thead>\n  <tbody>\n    <tr>\n      <th>Eixample</th>\n      <td>992</td>\n    </tr>\n    <tr>\n      <th>Sant Martí</th>\n      <td>943</td>\n    </tr>\n    <tr>\n      <th>Sants-Montjuïc</th>\n      <td>744</td>\n    </tr>\n    <tr>\n      <th>Nou Barris</th>\n      <td>734</td>\n    </tr>\n    <tr>\n      <th>Horta-Guinardó</th>\n      <td>671</td>\n    </tr>\n    <tr>\n      <th>Sarrià-Sant Gervasi</th>\n      <td>623</td>\n    </tr>\n    <tr>\n      <th>Sant Andreu</th>\n      <td>604</td>\n    </tr>\n    <tr>\n      <th>Gràcia</th>\n      <td>513</td>\n    </tr>\n    <tr>\n      <th>Ciutat Vella</th>\n      <td>412</td>\n    </tr>\n    <tr>\n      <th>Les Corts</th>\n      <td>312</td>\n    </tr>\n  </tbody>\n</table>\n</div>",
      "text/plain": "                     Number\nDistrict Name              \nEixample                992\nSant Martí              943\nSants-Montjuïc          744\nNou Barris              734\nHorta-Guinardó          671\nSarrià-Sant Gervasi     623\nSant Andreu             604\nGràcia                  513\nCiutat Vella            412\nLes Corts               312"
     },
     "execution_count": 2,
     "metadata": {},
     "output_type": "execute_result"
    }
   ],
   "source": [
    "   ###############HOW MANY PEOPLE DIED IN DIFFERENT DISTRICTS OF BARCELONA? AND IN DIFFERENT YEARS?########################\n",
    "\n",
    "\n",
    "\n",
    "########see the first rows of the file.csv\n",
    "birth.head() \n",
    "########see the name of the columns\n",
    "birth.columns\n",
    "\n",
    "\n",
    "########GLOBAL VISON ABOUT BORN PEOPLE BY YEAR, DISTRICT AND AGE sorted by # of dead people\n",
    "birth_cleaning = birth.groupby(['Year','District Name','Gender']).sum().loc[:,['Number']] \n",
    "\n",
    "birth_summary = birth_cleaning.groupby(level=[0,1], group_keys=False).apply(lambda group: group.sort_values('Number', ascending=False))\n",
    "birth_summary\n",
    "\n",
    "\n",
    "#######Declaration to see how many baby-boys were born in 2017 year, grouped by the name of District.\n",
    "\n",
    "birth_2017_boys = birth.loc[(birth.Year == 2017) & (birth.Gender == 'Boys')].groupby(['District Name']).sum().loc[:,['Number']]  \n",
    "birth_2017_boys.sort_values('Number', ascending = False)\n",
    "\n",
    "birth_2017_girls = birth.loc[(birth.Year == 2017) & (birth.Gender == 'Girls')].groupby(['District Name']).sum().loc[:,['Number']]  \n",
    "birth_2017_girls.sort_values('Number', ascending = False)\n",
    "\n"
   ]
  },
  {
   "cell_type": "code",
   "execution_count": 12,
   "metadata": {},
   "outputs": [
    {
     "data": {
      "text/html": "<div>\n<style scoped>\n    .dataframe tbody tr th:only-of-type {\n        vertical-align: middle;\n    }\n\n    .dataframe tbody tr th {\n        vertical-align: top;\n    }\n\n    .dataframe thead th {\n        text-align: right;\n    }\n</style>\n<table border=\"1\" class=\"dataframe\">\n  <thead>\n    <tr style=\"text-align: right;\">\n      <th></th>\n      <th>Number</th>\n    </tr>\n    <tr>\n      <th>District Name</th>\n      <th></th>\n    </tr>\n  </thead>\n  <tbody>\n    <tr>\n      <th>Horta-Guinardó</th>\n      <td>50.565185</td>\n    </tr>\n    <tr>\n      <th>Sants-Montjuïc</th>\n      <td>50.033625</td>\n    </tr>\n    <tr>\n      <th>Nou Barris</th>\n      <td>49.728997</td>\n    </tr>\n    <tr>\n      <th>Sarrià-Sant Gervasi</th>\n      <td>48.939513</td>\n    </tr>\n    <tr>\n      <th>Gràcia</th>\n      <td>48.533586</td>\n    </tr>\n    <tr>\n      <th>Les Corts</th>\n      <td>48.447205</td>\n    </tr>\n    <tr>\n      <th>Eixample</th>\n      <td>47.992259</td>\n    </tr>\n    <tr>\n      <th>Sant Andreu</th>\n      <td>47.784810</td>\n    </tr>\n    <tr>\n      <th>Sant Martí</th>\n      <td>46.248161</td>\n    </tr>\n    <tr>\n      <th>Ciutat Vella</th>\n      <td>46.188341</td>\n    </tr>\n  </tbody>\n</table>\n</div>",
      "text/plain": "                        Number\nDistrict Name                 \nHorta-Guinardó       50.565185\nSants-Montjuïc       50.033625\nNou Barris           49.728997\nSarrià-Sant Gervasi  48.939513\nGràcia               48.533586\nLes Corts            48.447205\nEixample             47.992259\nSant Andreu          47.784810\nSant Martí           46.248161\nCiutat Vella         46.188341"
     },
     "execution_count": 12,
     "metadata": {},
     "output_type": "execute_result"
    }
   ],
   "source": [
    "###############HOW PERCENTAGE OF BABIES WAS BOYS AND HOW MUCH GIRLS?########################\n",
    "\n",
    "########RATIO OF BOYS = (BOYS /(BOYS + GIRLS))*100\n",
    "sum_births = birth_2017_boys.add(birth_2017_girls)\n",
    "sum_births\n",
    "ratio_boys = (birth_2017_boys.mul(100)).div(sum_births)\n",
    "ratio_boys.sort_values('Number',ascending =False)\n",
    "\n",
    "ratio_girls = (birth_2017_girls.mul(100)).div(sum_births)\n",
    "ratio_girls.sort_values('Number',ascending =False)\n"
   ]
  },
  {
   "cell_type": "code",
   "execution_count": 6,
   "metadata": {},
   "outputs": [
    {
     "data": {
      "text/html": "<div>\n<style scoped>\n    .dataframe tbody tr th:only-of-type {\n        vertical-align: middle;\n    }\n\n    .dataframe tbody tr th {\n        vertical-align: top;\n    }\n\n    .dataframe thead th {\n        text-align: right;\n    }\n</style>\n<table border=\"1\" class=\"dataframe\">\n  <thead>\n    <tr style=\"text-align: right;\">\n      <th></th>\n      <th>Number</th>\n    </tr>\n    <tr>\n      <th>District Name</th>\n      <th></th>\n    </tr>\n  </thead>\n  <tbody>\n    <tr>\n      <th>Nou Barris</th>\n      <td>8.860661</td>\n    </tr>\n    <tr>\n      <th>Ciutat Vella</th>\n      <td>8.797972</td>\n    </tr>\n    <tr>\n      <th>Gràcia</th>\n      <td>8.710557</td>\n    </tr>\n    <tr>\n      <th>Sant Martí</th>\n      <td>8.657696</td>\n    </tr>\n    <tr>\n      <th>Sant Andreu</th>\n      <td>8.564034</td>\n    </tr>\n    <tr>\n      <th>Sarrià-Sant Gervasi</th>\n      <td>8.527656</td>\n    </tr>\n    <tr>\n      <th>Sants-Montjuïc</th>\n      <td>8.174372</td>\n    </tr>\n    <tr>\n      <th>Horta-Guinardó</th>\n      <td>7.863657</td>\n    </tr>\n    <tr>\n      <th>Les Corts</th>\n      <td>7.850499</td>\n    </tr>\n    <tr>\n      <th>Eixample</th>\n      <td>7.758543</td>\n    </tr>\n  </tbody>\n</table>\n</div>",
      "text/plain": "                       Number\nDistrict Name                \nNou Barris           8.860661\nCiutat Vella         8.797972\nGràcia               8.710557\nSant Martí           8.657696\nSant Andreu          8.564034\nSarrià-Sant Gervasi  8.527656\nSants-Montjuïc       8.174372\nHorta-Guinardó       7.863657\nLes Corts            7.850499\nEixample             7.758543"
     },
     "execution_count": 6,
     "metadata": {},
     "output_type": "execute_result"
    }
   ],
   "source": [
    "            ## What is the birth rate by district.\n",
    "    ###How many people died in 2017?\n",
    "\n",
    "death.head()                                            ##see the first rows of the file.csv\n",
    "deaths_2017 = death.loc[(death.Year == 2017)].groupby(['District.Name']).sum().loc[:,['Number']]  \n",
    "deaths_2017\n",
    "\n",
    "\n",
    "            #How many people live currently in 2017?\n",
    "population.head()                                            ##see the first rows of the file.csv\n",
    "population_2017 = population.loc[(population.Year == 2017)].groupby(['District.Name']).sum().loc[:,['Number']]  \n",
    "population_2017\n",
    "\n",
    "\n",
    "            #The birth ratio for distrits is\n",
    "ratio_birth_districts = birth_2017.mul(1000).div(population_2017)\n",
    "#ratio_birth_districts.reset_index().describe(include='all')\n",
    "ratio_birth_districts.sort_values('Number', ascending = False)\n",
    "#ratio_birth_districts\n"
   ]
  },
  {
   "cell_type": "code",
   "execution_count": 3,
   "metadata": {},
   "outputs": [
    {
     "data": {
      "text/html": "<div>\n<style scoped>\n    .dataframe tbody tr th:only-of-type {\n        vertical-align: middle;\n    }\n\n    .dataframe tbody tr th {\n        vertical-align: top;\n    }\n\n    .dataframe thead th {\n        text-align: right;\n    }\n</style>\n<table border=\"1\" class=\"dataframe\">\n  <thead>\n    <tr style=\"text-align: right;\">\n      <th></th>\n      <th>Number</th>\n    </tr>\n    <tr>\n      <th>District Name</th>\n      <th></th>\n    </tr>\n  </thead>\n  <tbody>\n    <tr>\n      <th>Nou Barris</th>\n      <td>8.860661</td>\n    </tr>\n    <tr>\n      <th>Ciutat Vella</th>\n      <td>8.797972</td>\n    </tr>\n    <tr>\n      <th>Gràcia</th>\n      <td>8.710557</td>\n    </tr>\n    <tr>\n      <th>Sant Martí</th>\n      <td>8.657696</td>\n    </tr>\n    <tr>\n      <th>Sant Andreu</th>\n      <td>8.564034</td>\n    </tr>\n    <tr>\n      <th>Sarrià-Sant Gervasi</th>\n      <td>8.527656</td>\n    </tr>\n    <tr>\n      <th>Sants-Montjuïc</th>\n      <td>8.174372</td>\n    </tr>\n    <tr>\n      <th>Horta-Guinardó</th>\n      <td>7.863657</td>\n    </tr>\n    <tr>\n      <th>Les Corts</th>\n      <td>7.850499</td>\n    </tr>\n    <tr>\n      <th>Eixample</th>\n      <td>7.758543</td>\n    </tr>\n  </tbody>\n</table>\n</div>",
      "text/plain": "                       Number\nDistrict Name                \nNou Barris           8.860661\nCiutat Vella         8.797972\nGràcia               8.710557\nSant Martí           8.657696\nSant Andreu          8.564034\nSarrià-Sant Gervasi  8.527656\nSants-Montjuïc       8.174372\nHorta-Guinardó       7.863657\nLes Corts            7.850499\nEixample             7.758543"
     },
     "execution_count": 3,
     "metadata": {},
     "output_type": "execute_result"
    }
   ],
   "source": [
    "###############     WHAT IS THE VEGETATIVE RATE BYE AGE?? ########################\n",
    "  \n",
    "########    birth rate - death rate.\n",
    "\n",
    "########    Calculation how many people died in 2017 by district.\n",
    "\n",
    "\n",
    "deaths_2017 = death.loc[(death.Year == 2017)].groupby(['District.Name']).sum().loc[:,['Number']]  \n",
    "deaths_2017\n",
    "\n",
    "########    Calculation how many people live in 2017 by district.\n",
    "\n",
    "population_2017 = population.loc[(population.Year == 2017)].groupby(['District.Name']).sum().loc[:,['Number']]  \n",
    "population_2017\n",
    "\n",
    "\n",
    "########    The death ratio is:\n",
    "\n",
    "ratio_death = deaths_2017.mul(1000).div(population_2017)\n",
    "ratio_death\n",
    "\n",
    "########    The birth ratio is:\n",
    "\n",
    "birth_2017 = birth.loc[(birth.Year == 2017)].groupby(['District Name']).sum().loc[:,['Number']]  \n",
    "birth_2017\n",
    "\n",
    "ratio_birth = birth_2017.mul(1000).div(population_2017)\n",
    "ratio_birth.sort_values('Number', ascending =  False\n",
    "\n",
    "###############################The vegative ratio: birth rate -death rate\n",
    "########    Using the \"DEATH RATIO\" and the \"BIRTH RATIO\" calculates the \"VEGETATIVE RATIO\":\n",
    "\n",
    "\n",
    "Vegetative_ratio = ratio_birth.subtract(ratio_death)\n",
    "Vegetative_ratio.sort_values('Number', ascending = False)  ##the result is the growing up of the population (if + population increase, if + population decrease)."
   ]
  },
  {
   "cell_type": "code",
   "execution_count": null,
   "metadata": {},
   "outputs": [],
   "source": []
  }
 ]
}