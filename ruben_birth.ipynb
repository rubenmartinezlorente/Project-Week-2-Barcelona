{
 "nbformat": 4,
 "nbformat_minor": 2,
 "metadata": {
  "language_info": {
   "name": "python",
   "codemirror_mode": {
    "name": "ipython",
    "version": 3
   }
  },
  "orig_nbformat": 2,
  "file_extension": ".py",
  "mimetype": "text/x-python",
  "name": "python",
  "npconvert_exporter": "python",
  "pygments_lexer": "ipython3",
  "version": 3
 },
 "cells": [
  {
   "cell_type": "code",
   "execution_count": 99,
   "metadata": {},
   "outputs": [],
   "source": [
    "import pandas as pd"
   ]
  },
  {
   "cell_type": "markdown",
   "execution_count": 1,
   "metadata": {},
   "outputs": [],
   "source": [
    "import pandas as  pd \n",
    "\n",
    "#'/Users/rubenmartinezlorente/data-bcn-prework/DATA_COURSE/PROJECTS/P2_Barcelona/Project-Week-2-Barcelona/datasets/3.-Population/births.csv')\n",
    "##files to read\n",
    "\n",
    "birth = pd.read_csv('../Project-Week-2-Barcelona/datasets/3.-Population/births.csv')\n",
    "death = pd.read_csv('../Project-Week-2-Barcelona/datasets/3.-Population/deaths.csv')\n",
    "population = pd.read_csv('../Project-Week-2-Barcelona/datasets/3.-Population/population.csv')\n",
    "babies = pd.read_csv('../Project-Week-2-Barcelona/datasets/3.-Population/most-frequent-baby-names.csv')\n",
    "names = pd.read_csv('../Project-Week-2-Barcelona/datasets/3.-Population/most-frequent-names.csv')\n",
    "\n"
   ]
  },
  {
   "cell_type": "markdown",
   "execution_count": 13,
   "metadata": {},
   "outputs": [
    {
     "data": {
      "text/html": "<div>\n<style scoped>\n    .dataframe tbody tr th:only-of-type {\n        vertical-align: middle;\n    }\n\n    .dataframe tbody tr th {\n        vertical-align: top;\n    }\n\n    .dataframe thead th {\n        text-align: right;\n    }\n</style>\n<table border=\"1\" class=\"dataframe\">\n  <thead>\n    <tr style=\"text-align: right;\">\n      <th></th>\n      <th>Year</th>\n      <th>District Code</th>\n      <th>District Name</th>\n      <th>Neighborhood Code</th>\n      <th>Neighborhood Name</th>\n      <th>Gender</th>\n      <th>Number</th>\n    </tr>\n  </thead>\n  <tbody>\n    <tr>\n      <th>0</th>\n      <td>2017</td>\n      <td>1</td>\n      <td>Ciutat Vella</td>\n      <td>1</td>\n      <td>el Raval</td>\n      <td>Boys</td>\n      <td>283</td>\n    </tr>\n    <tr>\n      <th>1</th>\n      <td>2017</td>\n      <td>1</td>\n      <td>Ciutat Vella</td>\n      <td>2</td>\n      <td>el Barri Gòtic</td>\n      <td>Boys</td>\n      <td>56</td>\n    </tr>\n    <tr>\n      <th>2</th>\n      <td>2017</td>\n      <td>1</td>\n      <td>Ciutat Vella</td>\n      <td>3</td>\n      <td>la Barceloneta</td>\n      <td>Boys</td>\n      <td>51</td>\n    </tr>\n    <tr>\n      <th>3</th>\n      <td>2017</td>\n      <td>1</td>\n      <td>Ciutat Vella</td>\n      <td>4</td>\n      <td>Sant Pere, Santa Caterina i la Ribera</td>\n      <td>Boys</td>\n      <td>90</td>\n    </tr>\n    <tr>\n      <th>4</th>\n      <td>2017</td>\n      <td>2</td>\n      <td>Eixample</td>\n      <td>5</td>\n      <td>el Fort Pienc</td>\n      <td>Boys</td>\n      <td>117</td>\n    </tr>\n  </tbody>\n</table>\n</div>",
      "text/plain": "   Year  District Code District Name  Neighborhood Code  \\\n0  2017              1  Ciutat Vella                  1   \n1  2017              1  Ciutat Vella                  2   \n2  2017              1  Ciutat Vella                  3   \n3  2017              1  Ciutat Vella                  4   \n4  2017              2      Eixample                  5   \n\n                       Neighborhood Name Gender  Number  \n0                               el Raval   Boys     283  \n1                         el Barri Gòtic   Boys      56  \n2                         la Barceloneta   Boys      51  \n3  Sant Pere, Santa Caterina i la Ribera   Boys      90  \n4                          el Fort Pienc   Boys     117  "
     },
     "execution_count": 13,
     "metadata": {},
     "output_type": "execute_result"
    }
   ],
   "source": [
    "birth.head()\n",
    "#birth.Year.unique()"
   ]
  },
  {
   "cell_type": "markdown",
   "execution_count": 34,
   "metadata": {},
   "outputs": [
    {
     "data": {
      "text/html": "<div>\n<style scoped>\n    .dataframe tbody tr th:only-of-type {\n        vertical-align: middle;\n    }\n\n    .dataframe tbody tr th {\n        vertical-align: top;\n    }\n\n    .dataframe thead th {\n        text-align: right;\n    }\n</style>\n<table border=\"1\" class=\"dataframe\">\n  <thead>\n    <tr style=\"text-align: right;\">\n      <th></th>\n      <th></th>\n      <th>Number</th>\n    </tr>\n    <tr>\n      <th>District Name</th>\n      <th>Gender</th>\n      <th></th>\n    </tr>\n  </thead>\n  <tbody>\n    <tr>\n      <th>Ciutat Vella</th>\n      <th>Boys</th>\n      <td>480</td>\n    </tr>\n    <tr>\n      <th>Eixample</th>\n      <th>Boys</th>\n      <td>1075</td>\n    </tr>\n    <tr>\n      <th>Gràcia</th>\n      <th>Boys</th>\n      <td>544</td>\n    </tr>\n    <tr>\n      <th>Horta-Guinardó</th>\n      <th>Boys</th>\n      <td>656</td>\n    </tr>\n    <tr>\n      <th>Les Corts</th>\n      <th>Boys</th>\n      <td>332</td>\n    </tr>\n    <tr>\n      <th>Nou Barris</th>\n      <th>Boys</th>\n      <td>742</td>\n    </tr>\n    <tr>\n      <th>Sant Andreu</th>\n      <th>Boys</th>\n      <td>660</td>\n    </tr>\n    <tr>\n      <th>Sant Martí</th>\n      <th>Boys</th>\n      <td>1096</td>\n    </tr>\n    <tr>\n      <th>Sants-Montjuïc</th>\n      <th>Boys</th>\n      <td>743</td>\n    </tr>\n    <tr>\n      <th>Sarrià-Sant Gervasi</th>\n      <th>Boys</th>\n      <td>650</td>\n    </tr>\n  </tbody>\n</table>\n</div>",
      "text/plain": "                            Number\nDistrict Name       Gender        \nCiutat Vella        Boys       480\nEixample            Boys      1075\nGràcia              Boys       544\nHorta-Guinardó      Boys       656\nLes Corts           Boys       332\nNou Barris          Boys       742\nSant Andreu         Boys       660\nSant Martí          Boys      1096\nSants-Montjuïc      Boys       743\nSarrià-Sant Gervasi Boys       650"
     },
     "execution_count": 34,
     "metadata": {},
     "output_type": "execute_result"
    }
   ],
   "source": [
    "            ## What is the birth rate in 2017.\n",
    "    ###Boys \n",
    "\n",
    "birth.head()                                            \n",
    "birth_2017 = birth.loc[(birth.Year == 2017) & (birth.Gender == 'Boys')].groupby(['District Name', 'Gender']).sum().loc[:,['Number']]  \n",
    "birth_2017"
   ]
  },
  {
   "cell_type": "markdown",
   "execution_count": 37,
   "metadata": {},
   "outputs": [
    {
     "data": {
      "text/html": "<div>\n<style scoped>\n    .dataframe tbody tr th:only-of-type {\n        vertical-align: middle;\n    }\n\n    .dataframe tbody tr th {\n        vertical-align: top;\n    }\n\n    .dataframe thead th {\n        text-align: right;\n    }\n</style>\n<table border=\"1\" class=\"dataframe\">\n  <thead>\n    <tr style=\"text-align: right;\">\n      <th></th>\n      <th></th>\n      <th>Number</th>\n    </tr>\n    <tr>\n      <th>District Name</th>\n      <th>Gender</th>\n      <th></th>\n    </tr>\n  </thead>\n  <tbody>\n    <tr>\n      <th>Ciutat Vella</th>\n      <th>Girls</th>\n      <td>412</td>\n    </tr>\n    <tr>\n      <th>Eixample</th>\n      <th>Girls</th>\n      <td>992</td>\n    </tr>\n    <tr>\n      <th>Gràcia</th>\n      <th>Girls</th>\n      <td>513</td>\n    </tr>\n    <tr>\n      <th>Horta-Guinardó</th>\n      <th>Girls</th>\n      <td>671</td>\n    </tr>\n    <tr>\n      <th>Les Corts</th>\n      <th>Girls</th>\n      <td>312</td>\n    </tr>\n    <tr>\n      <th>Nou Barris</th>\n      <th>Girls</th>\n      <td>734</td>\n    </tr>\n    <tr>\n      <th>Sant Andreu</th>\n      <th>Girls</th>\n      <td>604</td>\n    </tr>\n    <tr>\n      <th>Sant Martí</th>\n      <th>Girls</th>\n      <td>943</td>\n    </tr>\n    <tr>\n      <th>Sants-Montjuïc</th>\n      <th>Girls</th>\n      <td>744</td>\n    </tr>\n    <tr>\n      <th>Sarrià-Sant Gervasi</th>\n      <th>Girls</th>\n      <td>623</td>\n    </tr>\n  </tbody>\n</table>\n</div>",
      "text/plain": "                            Number\nDistrict Name       Gender        \nCiutat Vella        Girls      412\nEixample            Girls      992\nGràcia              Girls      513\nHorta-Guinardó      Girls      671\nLes Corts           Girls      312\nNou Barris          Girls      734\nSant Andreu         Girls      604\nSant Martí          Girls      943\nSants-Montjuïc      Girls      744\nSarrià-Sant Gervasi Girls      623"
     },
     "execution_count": 37,
     "metadata": {},
     "output_type": "execute_result"
    }
   ],
   "source": [
    "            ## What is the birth rate in 2017.\n",
    "    ###Girls\n",
    "\n",
    "birth.head()                                            \n",
    "birth_2017 = birth.loc[(birth.Year == 2017) & (birth.Gender == 'Girls')].groupby(['District Name', 'Gender']).sum().loc[:,['Number']]  \n",
    "birth_2017"
   ]
  },
  {
   "cell_type": "markdown",
   "execution_count": 42,
   "metadata": {},
   "outputs": [
    {
     "data": {
      "text/html": "<div>\n<style scoped>\n    .dataframe tbody tr th:only-of-type {\n        vertical-align: middle;\n    }\n\n    .dataframe tbody tr th {\n        vertical-align: top;\n    }\n\n    .dataframe thead th {\n        text-align: right;\n    }\n</style>\n<table border=\"1\" class=\"dataframe\">\n  <thead>\n    <tr style=\"text-align: right;\">\n      <th></th>\n      <th>Number</th>\n    </tr>\n    <tr>\n      <th>District.Name</th>\n      <th></th>\n    </tr>\n  </thead>\n  <tbody>\n    <tr>\n      <th>Eixample</th>\n      <td>27.005435</td>\n    </tr>\n    <tr>\n      <th>Sant Martí</th>\n      <td>20.406956</td>\n    </tr>\n    <tr>\n      <th>Horta-Guinardó</th>\n      <td>17.812935</td>\n    </tr>\n    <tr>\n      <th>Sants-Montjuïc</th>\n      <td>17.359228</td>\n    </tr>\n    <tr>\n      <th>Nou Barris</th>\n      <td>17.250732</td>\n    </tr>\n    <tr>\n      <th>Sarrià-Sant Gervasi</th>\n      <td>13.433675</td>\n    </tr>\n    <tr>\n      <th>Sant Andreu</th>\n      <td>13.078600</td>\n    </tr>\n    <tr>\n      <th>Gràcia</th>\n      <td>11.599120</td>\n    </tr>\n    <tr>\n      <th>Ciutat Vella</th>\n      <td>8.018780</td>\n    </tr>\n    <tr>\n      <th>Les Corts</th>\n      <td>7.545346</td>\n    </tr>\n  </tbody>\n</table>\n</div>",
      "text/plain": "                        Number\nDistrict.Name                 \nEixample             27.005435\nSant Martí           20.406956\nHorta-Guinardó       17.812935\nSants-Montjuïc       17.359228\nNou Barris           17.250732\nSarrià-Sant Gervasi  13.433675\nSant Andreu          13.078600\nGràcia               11.599120\nCiutat Vella          8.018780\nLes Corts             7.545346"
     },
     "execution_count": 42,
     "metadata": {},
     "output_type": "execute_result"
    }
   ],
   "source": [
    "            ## What is the birth rate by district.\n",
    "    ###How many people died in 2017?\n",
    "\n",
    "death.head()                                            ##see the first rows of the file.csv\n",
    "deaths_2017 = death.loc[(death.Year == 2017)].groupby(['District.Name']).sum().loc[:,['Number']]  \n",
    "deaths_2017\n",
    "\n",
    "\n",
    "            #How many people live currently in 2017?\n",
    "population.head()                                            ##see the first rows of the file.csv\n",
    "population_2017 = population.loc[(population.Year == 2017)].groupby(['District.Name']).sum().loc[:,['Number']]  \n",
    "population_2017\n",
    "\n",
    "\n",
    "            #The death_ratio is\n",
    "ratio_birth_districts = deaths_2017.mul(1000).div(population_2017.iloc[0])\n",
    "#ratio_birth_districts.reset_index().describe(include='all')\n",
    "ratio_birth_districts.sort_values('Number', ascending = False)\n",
    "#ratio_birth_districts\n"
   ]
  },
  {
   "cell_type": "markdown",
   "execution_count": 45,
   "metadata": {},
   "outputs": [
    {
     "data": {
      "text/html": "<div>\n<style scoped>\n    .dataframe tbody tr th:only-of-type {\n        vertical-align: middle;\n    }\n\n    .dataframe tbody tr th {\n        vertical-align: top;\n    }\n\n    .dataframe thead th {\n        text-align: right;\n    }\n</style>\n<table border=\"1\" class=\"dataframe\">\n  <thead>\n    <tr style=\"text-align: right;\">\n      <th></th>\n      <th>Number</th>\n    </tr>\n    <tr>\n      <th>District.Name</th>\n      <th></th>\n    </tr>\n  </thead>\n  <tbody>\n    <tr>\n      <th>Ciutat Vella</th>\n      <td>0.000000</td>\n    </tr>\n    <tr>\n      <th>Eixample</th>\n      <td>18.986655</td>\n    </tr>\n    <tr>\n      <th>Gràcia</th>\n      <td>3.580341</td>\n    </tr>\n    <tr>\n      <th>Horta-Guinardó</th>\n      <td>9.794155</td>\n    </tr>\n    <tr>\n      <th>Les Corts</th>\n      <td>-0.473433</td>\n    </tr>\n    <tr>\n      <th>Nou Barris</th>\n      <td>9.231953</td>\n    </tr>\n    <tr>\n      <th>Sant Andreu</th>\n      <td>5.059820</td>\n    </tr>\n    <tr>\n      <th>Sant Martí</th>\n      <td>12.388176</td>\n    </tr>\n    <tr>\n      <th>Sants-Montjuïc</th>\n      <td>9.340448</td>\n    </tr>\n    <tr>\n      <th>Sarrià-Sant Gervasi</th>\n      <td>5.414895</td>\n    </tr>\n  </tbody>\n</table>\n</div>",
      "text/plain": "                        Number\nDistrict.Name                 \nCiutat Vella          0.000000\nEixample             18.986655\nGràcia                3.580341\nHorta-Guinardó        9.794155\nLes Corts            -0.473433\nNou Barris            9.231953\nSant Andreu           5.059820\nSant Martí           12.388176\nSants-Montjuïc        9.340448\nSarrià-Sant Gervasi   5.414895"
     },
     "execution_count": 45,
     "metadata": {},
     "output_type": "execute_result"
    }
   ],
   "source": [
    "            ## What is the vegetative rate by age =  birth rate - death rate.\n",
    "    ###How many people died in 2017?\n",
    "\n",
    "death.head()                                            ##see the first rows of the file.csv\n",
    "deaths_2017 = death.loc[(death.Year == 2017)].groupby(['District.Name']).sum().loc[:,['Number']]  \n",
    "deaths_2017\n",
    "\n",
    "    ###How many live  in 2017?\n",
    "\n",
    "            #How many people live currently in 2017?\n",
    "population.head()                                            ##see the first rows of the file.csv\n",
    "population_2017 = population.loc[(population.Year == 2017)].groupby(['District.Name']).sum().loc[:,['Number']]  \n",
    "population_2017\n",
    "\n",
    "\n",
    "            #The death_ratio is\n",
    "ratio_death_age = deaths_2017.mul(1000).div(population_2017.iloc[0])\n",
    "ratio_death_age\n",
    "\n",
    "\n",
    "###############################The vegative ratio: birth rate -death rate\n",
    "\n",
    "Vegetative_ratio = ratio_birth_districts.subtract(ratio_death_districts.iloc[0])\n",
    "Vegetative_ratio  ##the result is the growing up of the population (if + population increase, if + population decrease)."
   ]
  },
  {
   "cell_type": "code",
   "execution_count": null,
   "metadata": {},
   "outputs": [],
   "source": []
  }
 ]
}